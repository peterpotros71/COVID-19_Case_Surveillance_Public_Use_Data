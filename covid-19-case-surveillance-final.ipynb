{
 "cells": [
  {
   "cell_type": "code",
   "execution_count": 62,
   "metadata": {
    "execution": {
     "iopub.execute_input": "2021-10-09T10:20:24.108783Z",
     "iopub.status.busy": "2021-10-09T10:20:24.108479Z",
     "iopub.status.idle": "2021-10-09T10:20:24.115462Z",
     "shell.execute_reply": "2021-10-09T10:20:24.114530Z",
     "shell.execute_reply.started": "2021-10-09T10:20:24.108754Z"
    }
   },
   "outputs": [],
   "source": [
    "# import libraries\n",
    "import pandas as pd\n",
    "import numpy as np\n",
    "import matplotlib.pyplot as plt\n",
    "import seaborn as sns\n",
    "\n",
    "from sklearn.ensemble import RandomForestClassifier\n",
    "from sklearn.model_selection import train_test_split\n",
    "from sklearn.metrics import classification_report\n",
    "from sklearn.metrics import confusion_matrix, accuracy_score"
   ]
  },
  {
   "cell_type": "code",
   "execution_count": 2,
   "metadata": {
    "execution": {
     "iopub.execute_input": "2021-10-09T09:08:53.077458Z",
     "iopub.status.busy": "2021-10-09T09:08:53.076563Z",
     "iopub.status.idle": "2021-10-09T09:09:17.186177Z",
     "shell.execute_reply": "2021-10-09T09:09:17.184960Z",
     "shell.execute_reply.started": "2021-10-09T09:08:53.077405Z"
    }
   },
   "outputs": [
    {
     "name": "stderr",
     "output_type": "stream",
     "text": [
      "/opt/conda/lib/python3.7/site-packages/IPython/core/interactiveshell.py:3441: DtypeWarning: Columns (1) have mixed types.Specify dtype option on import or set low_memory=False.\n",
      "  exec(code_obj, self.user_global_ns, self.user_ns)\n"
     ]
    },
    {
     "data": {
      "text/html": [
       "<div>\n",
       "<style scoped>\n",
       "    .dataframe tbody tr th:only-of-type {\n",
       "        vertical-align: middle;\n",
       "    }\n",
       "\n",
       "    .dataframe tbody tr th {\n",
       "        vertical-align: top;\n",
       "    }\n",
       "\n",
       "    .dataframe thead th {\n",
       "        text-align: right;\n",
       "    }\n",
       "</style>\n",
       "<table border=\"1\" class=\"dataframe\">\n",
       "  <thead>\n",
       "    <tr style=\"text-align: right;\">\n",
       "      <th></th>\n",
       "      <th>cdc_report_dt</th>\n",
       "      <th>pos_spec_dt</th>\n",
       "      <th>onset_dt</th>\n",
       "      <th>current_status</th>\n",
       "      <th>sex</th>\n",
       "      <th>age_group</th>\n",
       "      <th>Race and ethnicity (combined)</th>\n",
       "      <th>hosp_yn</th>\n",
       "      <th>icu_yn</th>\n",
       "      <th>death_yn</th>\n",
       "      <th>medcond_yn</th>\n",
       "    </tr>\n",
       "  </thead>\n",
       "  <tbody>\n",
       "    <tr>\n",
       "      <th>0</th>\n",
       "      <td>2020/11/10</td>\n",
       "      <td>2020/11/10</td>\n",
       "      <td>NaN</td>\n",
       "      <td>Laboratory-confirmed case</td>\n",
       "      <td>Male</td>\n",
       "      <td>10 - 19 Years</td>\n",
       "      <td>Black, Non-Hispanic</td>\n",
       "      <td>No</td>\n",
       "      <td>Unknown</td>\n",
       "      <td>No</td>\n",
       "      <td>No</td>\n",
       "    </tr>\n",
       "    <tr>\n",
       "      <th>1</th>\n",
       "      <td>2020/11/14</td>\n",
       "      <td>2020/11/10</td>\n",
       "      <td>2020/11/10</td>\n",
       "      <td>Laboratory-confirmed case</td>\n",
       "      <td>Male</td>\n",
       "      <td>10 - 19 Years</td>\n",
       "      <td>Black, Non-Hispanic</td>\n",
       "      <td>No</td>\n",
       "      <td>No</td>\n",
       "      <td>No</td>\n",
       "      <td>No</td>\n",
       "    </tr>\n",
       "    <tr>\n",
       "      <th>2</th>\n",
       "      <td>2020/11/19</td>\n",
       "      <td>2020/11/10</td>\n",
       "      <td>2020/11/09</td>\n",
       "      <td>Laboratory-confirmed case</td>\n",
       "      <td>Male</td>\n",
       "      <td>10 - 19 Years</td>\n",
       "      <td>Black, Non-Hispanic</td>\n",
       "      <td>No</td>\n",
       "      <td>No</td>\n",
       "      <td>No</td>\n",
       "      <td>No</td>\n",
       "    </tr>\n",
       "    <tr>\n",
       "      <th>3</th>\n",
       "      <td>2020/11/14</td>\n",
       "      <td>2020/11/10</td>\n",
       "      <td>NaN</td>\n",
       "      <td>Laboratory-confirmed case</td>\n",
       "      <td>Male</td>\n",
       "      <td>10 - 19 Years</td>\n",
       "      <td>Black, Non-Hispanic</td>\n",
       "      <td>Missing</td>\n",
       "      <td>Missing</td>\n",
       "      <td>No</td>\n",
       "      <td>Missing</td>\n",
       "    </tr>\n",
       "    <tr>\n",
       "      <th>4</th>\n",
       "      <td>2020/11/13</td>\n",
       "      <td>2020/11/10</td>\n",
       "      <td>2020/11/10</td>\n",
       "      <td>Laboratory-confirmed case</td>\n",
       "      <td>Male</td>\n",
       "      <td>10 - 19 Years</td>\n",
       "      <td>Black, Non-Hispanic</td>\n",
       "      <td>No</td>\n",
       "      <td>No</td>\n",
       "      <td>No</td>\n",
       "      <td>Yes</td>\n",
       "    </tr>\n",
       "  </tbody>\n",
       "</table>\n",
       "</div>"
      ],
      "text/plain": [
       "  cdc_report_dt pos_spec_dt    onset_dt             current_status   sex  \\\n",
       "0    2020/11/10  2020/11/10         NaN  Laboratory-confirmed case  Male   \n",
       "1    2020/11/14  2020/11/10  2020/11/10  Laboratory-confirmed case  Male   \n",
       "2    2020/11/19  2020/11/10  2020/11/09  Laboratory-confirmed case  Male   \n",
       "3    2020/11/14  2020/11/10         NaN  Laboratory-confirmed case  Male   \n",
       "4    2020/11/13  2020/11/10  2020/11/10  Laboratory-confirmed case  Male   \n",
       "\n",
       "       age_group Race and ethnicity (combined)  hosp_yn   icu_yn death_yn  \\\n",
       "0  10 - 19 Years           Black, Non-Hispanic       No  Unknown       No   \n",
       "1  10 - 19 Years           Black, Non-Hispanic       No       No       No   \n",
       "2  10 - 19 Years           Black, Non-Hispanic       No       No       No   \n",
       "3  10 - 19 Years           Black, Non-Hispanic  Missing  Missing       No   \n",
       "4  10 - 19 Years           Black, Non-Hispanic       No       No       No   \n",
       "\n",
       "  medcond_yn  \n",
       "0         No  \n",
       "1         No  \n",
       "2         No  \n",
       "3    Missing  \n",
       "4        Yes  "
      ]
     },
     "execution_count": 2,
     "metadata": {},
     "output_type": "execute_result"
    }
   ],
   "source": [
    "# load dataset\n",
    "df = pd.read_csv('COVID-19_Case_Surveillance_Public_Use_Data.csv')\n",
    "df.head()"
   ]
  },
  {
   "cell_type": "code",
   "execution_count": 3,
   "metadata": {
    "execution": {
     "iopub.execute_input": "2021-10-09T09:09:28.325207Z",
     "iopub.status.busy": "2021-10-09T09:09:28.324127Z",
     "iopub.status.idle": "2021-10-09T09:09:33.133222Z",
     "shell.execute_reply": "2021-10-09T09:09:33.132330Z",
     "shell.execute_reply.started": "2021-10-09T09:09:28.325163Z"
    }
   },
   "outputs": [],
   "source": [
    "#replace value Missing with NAN\n",
    "df.replace('Missing', np.nan, inplace=True)"
   ]
  },
  {
   "cell_type": "code",
   "execution_count": 4,
   "metadata": {
    "execution": {
     "iopub.execute_input": "2021-10-09T09:09:35.037069Z",
     "iopub.status.busy": "2021-10-09T09:09:35.036727Z",
     "iopub.status.idle": "2021-10-09T09:09:35.061476Z",
     "shell.execute_reply": "2021-10-09T09:09:35.060675Z",
     "shell.execute_reply.started": "2021-10-09T09:09:35.037011Z"
    }
   },
   "outputs": [
    {
     "name": "stdout",
     "output_type": "stream",
     "text": [
      "<class 'pandas.core.frame.DataFrame'>\n",
      "RangeIndex: 8405079 entries, 0 to 8405078\n",
      "Data columns (total 11 columns):\n",
      " #   Column                         Dtype \n",
      "---  ------                         ----- \n",
      " 0   cdc_report_dt                  object\n",
      " 1   pos_spec_dt                    object\n",
      " 2   onset_dt                       object\n",
      " 3   current_status                 object\n",
      " 4   sex                            object\n",
      " 5   age_group                      object\n",
      " 6   Race and ethnicity (combined)  object\n",
      " 7   hosp_yn                        object\n",
      " 8   icu_yn                         object\n",
      " 9   death_yn                       object\n",
      " 10  medcond_yn                     object\n",
      "dtypes: object(11)\n",
      "memory usage: 705.4+ MB\n"
     ]
    }
   ],
   "source": [
    "df.info()"
   ]
  },
  {
   "cell_type": "code",
   "execution_count": 5,
   "metadata": {
    "execution": {
     "iopub.execute_input": "2021-10-09T09:09:42.436086Z",
     "iopub.status.busy": "2021-10-09T09:09:42.435754Z",
     "iopub.status.idle": "2021-10-09T09:09:50.801573Z",
     "shell.execute_reply": "2021-10-09T09:09:50.800491Z",
     "shell.execute_reply.started": "2021-10-09T09:09:42.436054Z"
    }
   },
   "outputs": [
    {
     "data": {
      "text/plain": [
       "cdc_report_dt                          0\n",
       "pos_spec_dt                      5534290\n",
       "onset_dt                         4009122\n",
       "current_status                         0\n",
       "sex                                19538\n",
       "age_group                             89\n",
       "Race and ethnicity (combined)     601526\n",
       "hosp_yn                          3227302\n",
       "icu_yn                           6178281\n",
       "death_yn                         3486923\n",
       "medcond_yn                       6063390\n",
       "dtype: int64"
      ]
     },
     "execution_count": 5,
     "metadata": {},
     "output_type": "execute_result"
    }
   ],
   "source": [
    "df.isnull().sum()"
   ]
  },
  {
   "cell_type": "code",
   "execution_count": 6,
   "metadata": {
    "execution": {
     "iopub.execute_input": "2021-10-08T20:25:03.125009Z",
     "iopub.status.busy": "2021-10-08T20:25:03.124679Z",
     "iopub.status.idle": "2021-10-08T20:26:59.700665Z",
     "shell.execute_reply": "2021-10-08T20:26:59.699931Z",
     "shell.execute_reply.started": "2021-10-08T20:25:03.124970Z"
    }
   },
   "outputs": [
    {
     "data": {
      "text/plain": [
       "<AxesSubplot:>"
      ]
     },
     "execution_count": 6,
     "metadata": {},
     "output_type": "execute_result"
    },
    {
     "data": {
      "image/png": "[encoded data removed]",
      "text/plain": [
       "<Figure size 1152x576 with 2 Axes>"
      ]
     },
     "metadata": {
      "needs_background": "light"
     },
     "output_type": "display_data"
    }
   ],
   "source": [
    "plt.figure(figsize=(16,8))\n",
    "sns.heatmap(df.isnull())"
   ]
  },
  {
   "cell_type": "code",
   "execution_count": 6,
   "metadata": {
    "execution": {
     "iopub.execute_input": "2021-10-09T09:09:58.627561Z",
     "iopub.status.busy": "2021-10-09T09:09:58.626962Z",
     "iopub.status.idle": "2021-10-09T09:10:00.378593Z",
     "shell.execute_reply": "2021-10-09T09:10:00.377968Z",
     "shell.execute_reply.started": "2021-10-09T09:09:58.627514Z"
    }
   },
   "outputs": [
    {
     "data": {
      "text/html": [
       "<div>\n",
       "<style scoped>\n",
       "    .dataframe tbody tr th:only-of-type {\n",
       "        vertical-align: middle;\n",
       "    }\n",
       "\n",
       "    .dataframe tbody tr th {\n",
       "        vertical-align: top;\n",
       "    }\n",
       "\n",
       "    .dataframe thead th {\n",
       "        text-align: right;\n",
       "    }\n",
       "</style>\n",
       "<table border=\"1\" class=\"dataframe\">\n",
       "  <thead>\n",
       "    <tr style=\"text-align: right;\">\n",
       "      <th></th>\n",
       "      <th>symptomatic_yn</th>\n",
       "      <th>onset_dt</th>\n",
       "    </tr>\n",
       "  </thead>\n",
       "  <tbody>\n",
       "    <tr>\n",
       "      <th>0</th>\n",
       "      <td>No</td>\n",
       "      <td>NaN</td>\n",
       "    </tr>\n",
       "    <tr>\n",
       "      <th>1</th>\n",
       "      <td>Yes</td>\n",
       "      <td>2020/11/10</td>\n",
       "    </tr>\n",
       "    <tr>\n",
       "      <th>2</th>\n",
       "      <td>Yes</td>\n",
       "      <td>2020/11/09</td>\n",
       "    </tr>\n",
       "    <tr>\n",
       "      <th>3</th>\n",
       "      <td>No</td>\n",
       "      <td>NaN</td>\n",
       "    </tr>\n",
       "    <tr>\n",
       "      <th>4</th>\n",
       "      <td>Yes</td>\n",
       "      <td>2020/11/10</td>\n",
       "    </tr>\n",
       "    <tr>\n",
       "      <th>5</th>\n",
       "      <td>Yes</td>\n",
       "      <td>2020/11/08</td>\n",
       "    </tr>\n",
       "    <tr>\n",
       "      <th>6</th>\n",
       "      <td>No</td>\n",
       "      <td>NaN</td>\n",
       "    </tr>\n",
       "    <tr>\n",
       "      <th>7</th>\n",
       "      <td>No</td>\n",
       "      <td>NaN</td>\n",
       "    </tr>\n",
       "    <tr>\n",
       "      <th>8</th>\n",
       "      <td>No</td>\n",
       "      <td>NaN</td>\n",
       "    </tr>\n",
       "    <tr>\n",
       "      <th>9</th>\n",
       "      <td>No</td>\n",
       "      <td>NaN</td>\n",
       "    </tr>\n",
       "  </tbody>\n",
       "</table>\n",
       "</div>"
      ],
      "text/plain": [
       "  symptomatic_yn    onset_dt\n",
       "0             No         NaN\n",
       "1            Yes  2020/11/10\n",
       "2            Yes  2020/11/09\n",
       "3             No         NaN\n",
       "4            Yes  2020/11/10\n",
       "5            Yes  2020/11/08\n",
       "6             No         NaN\n",
       "7             No         NaN\n",
       "8             No         NaN\n",
       "9             No         NaN"
      ]
     },
     "execution_count": 6,
     "metadata": {},
     "output_type": "execute_result"
    }
   ],
   "source": [
    "df['symptomatic_yn'] = np.where(df.onset_dt.isnull(), 'No', 'Yes')\n",
    "df[0:10][['symptomatic_yn','onset_dt']]"
   ]
  },
  {
   "cell_type": "code",
   "execution_count": 7,
   "metadata": {
    "execution": {
     "iopub.execute_input": "2021-10-09T09:10:06.754887Z",
     "iopub.status.busy": "2021-10-09T09:10:06.754537Z",
     "iopub.status.idle": "2021-10-09T09:10:15.989920Z",
     "shell.execute_reply": "2021-10-09T09:10:15.989067Z",
     "shell.execute_reply.started": "2021-10-09T09:10:06.754849Z"
    }
   },
   "outputs": [
    {
     "data": {
      "text/html": [
       "<div>\n",
       "<style scoped>\n",
       "    .dataframe tbody tr th:only-of-type {\n",
       "        vertical-align: middle;\n",
       "    }\n",
       "\n",
       "    .dataframe tbody tr th {\n",
       "        vertical-align: top;\n",
       "    }\n",
       "\n",
       "    .dataframe thead th {\n",
       "        text-align: right;\n",
       "    }\n",
       "</style>\n",
       "<table border=\"1\" class=\"dataframe\">\n",
       "  <thead>\n",
       "    <tr style=\"text-align: right;\">\n",
       "      <th></th>\n",
       "      <th>tested_yn</th>\n",
       "      <th>pos_spec_dt</th>\n",
       "    </tr>\n",
       "  </thead>\n",
       "  <tbody>\n",
       "    <tr>\n",
       "      <th>0</th>\n",
       "      <td>Yes</td>\n",
       "      <td>2020/11/10</td>\n",
       "    </tr>\n",
       "    <tr>\n",
       "      <th>1</th>\n",
       "      <td>Yes</td>\n",
       "      <td>2020/11/10</td>\n",
       "    </tr>\n",
       "    <tr>\n",
       "      <th>2</th>\n",
       "      <td>Yes</td>\n",
       "      <td>2020/11/10</td>\n",
       "    </tr>\n",
       "    <tr>\n",
       "      <th>3</th>\n",
       "      <td>Yes</td>\n",
       "      <td>2020/11/10</td>\n",
       "    </tr>\n",
       "    <tr>\n",
       "      <th>4</th>\n",
       "      <td>Yes</td>\n",
       "      <td>2020/11/10</td>\n",
       "    </tr>\n",
       "    <tr>\n",
       "      <th>...</th>\n",
       "      <td>...</td>\n",
       "      <td>...</td>\n",
       "    </tr>\n",
       "    <tr>\n",
       "      <th>8405074</th>\n",
       "      <td>No</td>\n",
       "      <td>NaN</td>\n",
       "    </tr>\n",
       "    <tr>\n",
       "      <th>8405075</th>\n",
       "      <td>No</td>\n",
       "      <td>NaN</td>\n",
       "    </tr>\n",
       "    <tr>\n",
       "      <th>8405076</th>\n",
       "      <td>No</td>\n",
       "      <td>NaN</td>\n",
       "    </tr>\n",
       "    <tr>\n",
       "      <th>8405077</th>\n",
       "      <td>No</td>\n",
       "      <td>NaN</td>\n",
       "    </tr>\n",
       "    <tr>\n",
       "      <th>8405078</th>\n",
       "      <td>No</td>\n",
       "      <td>NaN</td>\n",
       "    </tr>\n",
       "  </tbody>\n",
       "</table>\n",
       "<p>8405079 rows × 2 columns</p>\n",
       "</div>"
      ],
      "text/plain": [
       "        tested_yn pos_spec_dt\n",
       "0             Yes  2020/11/10\n",
       "1             Yes  2020/11/10\n",
       "2             Yes  2020/11/10\n",
       "3             Yes  2020/11/10\n",
       "4             Yes  2020/11/10\n",
       "...           ...         ...\n",
       "8405074        No         NaN\n",
       "8405075        No         NaN\n",
       "8405076        No         NaN\n",
       "8405077        No         NaN\n",
       "8405078        No         NaN\n",
       "\n",
       "[8405079 rows x 2 columns]"
      ]
     },
     "execution_count": 7,
     "metadata": {},
     "output_type": "execute_result"
    }
   ],
   "source": [
    "df['tested_yn'] = np.where(df[['pos_spec_dt']].isnull(), 'No', 'Yes')\n",
    "df[:][['tested_yn','pos_spec_dt']]"
   ]
  },
  {
   "cell_type": "code",
   "execution_count": 8,
   "metadata": {
    "execution": {
     "iopub.execute_input": "2021-10-09T09:10:23.236419Z",
     "iopub.status.busy": "2021-10-09T09:10:23.236096Z",
     "iopub.status.idle": "2021-10-09T09:10:28.416890Z",
     "shell.execute_reply": "2021-10-09T09:10:28.415901Z",
     "shell.execute_reply.started": "2021-10-09T09:10:23.236386Z"
    }
   },
   "outputs": [],
   "source": [
    "# drop columns 'onset_dt', 'pos_spec_dt' \n",
    "df.drop(['onset_dt', 'pos_spec_dt'], axis=1, inplace=True)"
   ]
  },
  {
   "cell_type": "code",
   "execution_count": 9,
   "metadata": {
    "execution": {
     "iopub.execute_input": "2021-10-09T09:10:30.257089Z",
     "iopub.status.busy": "2021-10-09T09:10:30.256788Z",
     "iopub.status.idle": "2021-10-09T09:10:33.614898Z",
     "shell.execute_reply": "2021-10-09T09:10:33.613973Z",
     "shell.execute_reply.started": "2021-10-09T09:10:30.257060Z"
    }
   },
   "outputs": [],
   "source": [
    "df['cdc_report_dt'] = pd.to_datetime(df['cdc_report_dt'])"
   ]
  },
  {
   "cell_type": "code",
   "execution_count": 10,
   "metadata": {
    "execution": {
     "iopub.execute_input": "2021-10-09T09:10:37.178313Z",
     "iopub.status.busy": "2021-10-09T09:10:37.177937Z",
     "iopub.status.idle": "2021-10-09T09:10:37.197903Z",
     "shell.execute_reply": "2021-10-09T09:10:37.196922Z",
     "shell.execute_reply.started": "2021-10-09T09:10:37.178274Z"
    }
   },
   "outputs": [
    {
     "data": {
      "text/html": [
       "<div>\n",
       "<style scoped>\n",
       "    .dataframe tbody tr th:only-of-type {\n",
       "        vertical-align: middle;\n",
       "    }\n",
       "\n",
       "    .dataframe tbody tr th {\n",
       "        vertical-align: top;\n",
       "    }\n",
       "\n",
       "    .dataframe thead th {\n",
       "        text-align: right;\n",
       "    }\n",
       "</style>\n",
       "<table border=\"1\" class=\"dataframe\">\n",
       "  <thead>\n",
       "    <tr style=\"text-align: right;\">\n",
       "      <th></th>\n",
       "      <th>current_status</th>\n",
       "      <th>sex</th>\n",
       "      <th>age_group</th>\n",
       "      <th>Race and ethnicity (combined)</th>\n",
       "      <th>hosp_yn</th>\n",
       "      <th>icu_yn</th>\n",
       "      <th>death_yn</th>\n",
       "      <th>medcond_yn</th>\n",
       "      <th>symptomatic_yn</th>\n",
       "      <th>tested_yn</th>\n",
       "    </tr>\n",
       "    <tr>\n",
       "      <th>cdc_report_dt</th>\n",
       "      <th></th>\n",
       "      <th></th>\n",
       "      <th></th>\n",
       "      <th></th>\n",
       "      <th></th>\n",
       "      <th></th>\n",
       "      <th></th>\n",
       "      <th></th>\n",
       "      <th></th>\n",
       "      <th></th>\n",
       "    </tr>\n",
       "  </thead>\n",
       "  <tbody>\n",
       "    <tr>\n",
       "      <th>2020-11-10</th>\n",
       "      <td>Laboratory-confirmed case</td>\n",
       "      <td>Male</td>\n",
       "      <td>10 - 19 Years</td>\n",
       "      <td>Black, Non-Hispanic</td>\n",
       "      <td>No</td>\n",
       "      <td>Unknown</td>\n",
       "      <td>No</td>\n",
       "      <td>No</td>\n",
       "      <td>No</td>\n",
       "      <td>Yes</td>\n",
       "    </tr>\n",
       "    <tr>\n",
       "      <th>2020-11-14</th>\n",
       "      <td>Laboratory-confirmed case</td>\n",
       "      <td>Male</td>\n",
       "      <td>10 - 19 Years</td>\n",
       "      <td>Black, Non-Hispanic</td>\n",
       "      <td>No</td>\n",
       "      <td>No</td>\n",
       "      <td>No</td>\n",
       "      <td>No</td>\n",
       "      <td>Yes</td>\n",
       "      <td>Yes</td>\n",
       "    </tr>\n",
       "    <tr>\n",
       "      <th>2020-11-19</th>\n",
       "      <td>Laboratory-confirmed case</td>\n",
       "      <td>Male</td>\n",
       "      <td>10 - 19 Years</td>\n",
       "      <td>Black, Non-Hispanic</td>\n",
       "      <td>No</td>\n",
       "      <td>No</td>\n",
       "      <td>No</td>\n",
       "      <td>No</td>\n",
       "      <td>Yes</td>\n",
       "      <td>Yes</td>\n",
       "    </tr>\n",
       "    <tr>\n",
       "      <th>2020-11-14</th>\n",
       "      <td>Laboratory-confirmed case</td>\n",
       "      <td>Male</td>\n",
       "      <td>10 - 19 Years</td>\n",
       "      <td>Black, Non-Hispanic</td>\n",
       "      <td>NaN</td>\n",
       "      <td>NaN</td>\n",
       "      <td>No</td>\n",
       "      <td>NaN</td>\n",
       "      <td>No</td>\n",
       "      <td>Yes</td>\n",
       "    </tr>\n",
       "    <tr>\n",
       "      <th>2020-11-13</th>\n",
       "      <td>Laboratory-confirmed case</td>\n",
       "      <td>Male</td>\n",
       "      <td>10 - 19 Years</td>\n",
       "      <td>Black, Non-Hispanic</td>\n",
       "      <td>No</td>\n",
       "      <td>No</td>\n",
       "      <td>No</td>\n",
       "      <td>Yes</td>\n",
       "      <td>Yes</td>\n",
       "      <td>Yes</td>\n",
       "    </tr>\n",
       "  </tbody>\n",
       "</table>\n",
       "</div>"
      ],
      "text/plain": [
       "                          current_status   sex      age_group  \\\n",
       "cdc_report_dt                                                   \n",
       "2020-11-10     Laboratory-confirmed case  Male  10 - 19 Years   \n",
       "2020-11-14     Laboratory-confirmed case  Male  10 - 19 Years   \n",
       "2020-11-19     Laboratory-confirmed case  Male  10 - 19 Years   \n",
       "2020-11-14     Laboratory-confirmed case  Male  10 - 19 Years   \n",
       "2020-11-13     Laboratory-confirmed case  Male  10 - 19 Years   \n",
       "\n",
       "              Race and ethnicity (combined) hosp_yn   icu_yn death_yn  \\\n",
       "cdc_report_dt                                                           \n",
       "2020-11-10              Black, Non-Hispanic      No  Unknown       No   \n",
       "2020-11-14              Black, Non-Hispanic      No       No       No   \n",
       "2020-11-19              Black, Non-Hispanic      No       No       No   \n",
       "2020-11-14              Black, Non-Hispanic     NaN      NaN       No   \n",
       "2020-11-13              Black, Non-Hispanic      No       No       No   \n",
       "\n",
       "              medcond_yn symptomatic_yn tested_yn  \n",
       "cdc_report_dt                                      \n",
       "2020-11-10            No             No       Yes  \n",
       "2020-11-14            No            Yes       Yes  \n",
       "2020-11-19            No            Yes       Yes  \n",
       "2020-11-14           NaN             No       Yes  \n",
       "2020-11-13           Yes            Yes       Yes  "
      ]
     },
     "execution_count": 10,
     "metadata": {},
     "output_type": "execute_result"
    }
   ],
   "source": [
    "df.set_index('cdc_report_dt', inplace=True)\n",
    "df.head()"
   ]
  },
  {
   "cell_type": "code",
   "execution_count": 11,
   "metadata": {
    "execution": {
     "iopub.execute_input": "2021-10-09T09:10:42.624441Z",
     "iopub.status.busy": "2021-10-09T09:10:42.623806Z",
     "iopub.status.idle": "2021-10-09T09:10:51.639928Z",
     "shell.execute_reply": "2021-10-09T09:10:51.639220Z",
     "shell.execute_reply.started": "2021-10-09T09:10:42.624402Z"
    }
   },
   "outputs": [],
   "source": [
    "df = df.dropna(thresh=7)"
   ]
  },
  {
   "cell_type": "code",
   "execution_count": 12,
   "metadata": {
    "execution": {
     "iopub.execute_input": "2021-10-09T09:10:53.283545Z",
     "iopub.status.busy": "2021-10-09T09:10:53.283062Z",
     "iopub.status.idle": "2021-10-09T09:10:53.289166Z",
     "shell.execute_reply": "2021-10-09T09:10:53.288325Z",
     "shell.execute_reply.started": "2021-10-09T09:10:53.283513Z"
    }
   },
   "outputs": [
    {
     "data": {
      "text/plain": [
       "(5698361, 10)"
      ]
     },
     "execution_count": 12,
     "metadata": {},
     "output_type": "execute_result"
    }
   ],
   "source": [
    "df.shape"
   ]
  },
  {
   "cell_type": "code",
   "execution_count": 14,
   "metadata": {
    "execution": {
     "iopub.execute_input": "2021-10-08T20:28:40.218651Z",
     "iopub.status.busy": "2021-10-08T20:28:40.218366Z",
     "iopub.status.idle": "2021-10-08T20:29:52.424441Z",
     "shell.execute_reply": "2021-10-08T20:29:52.423456Z",
     "shell.execute_reply.started": "2021-10-08T20:28:40.218622Z"
    }
   },
   "outputs": [
    {
     "data": {
      "text/plain": [
       "<AxesSubplot:ylabel='cdc_report_dt'>"
      ]
     },
     "execution_count": 14,
     "metadata": {},
     "output_type": "execute_result"
    },
    {
     "data": {
      "image/png": "[encoded data removed]",
      "text/plain": [
       "<Figure size 1152x576 with 2 Axes>"
      ]
     },
     "metadata": {
      "needs_background": "light"
     },
     "output_type": "display_data"
    }
   ],
   "source": [
    "plt.figure(figsize=(16,8))\n",
    "sns.heatmap(df.isnull())"
   ]
  },
  {
   "cell_type": "markdown",
   "metadata": {},
   "source": [
    "## Data Exploration"
   ]
  },
  {
   "cell_type": "code",
   "execution_count": 15,
   "metadata": {
    "execution": {
     "iopub.execute_input": "2021-10-08T20:30:05.615734Z",
     "iopub.status.busy": "2021-10-08T20:30:05.615414Z",
     "iopub.status.idle": "2021-10-08T20:30:10.370490Z",
     "shell.execute_reply": "2021-10-08T20:30:10.369660Z",
     "shell.execute_reply.started": "2021-10-08T20:30:05.615703Z"
    }
   },
   "outputs": [
    {
     "data": {
      "text/plain": [
       "current_status                         0\n",
       "sex                                 6078\n",
       "age_group                             58\n",
       "Race and ethnicity (combined)     212807\n",
       "hosp_yn                           543586\n",
       "icu_yn                           3471623\n",
       "death_yn                          789074\n",
       "medcond_yn                       3357792\n",
       "symptomatic_yn                         0\n",
       "tested_yn                              0\n",
       "dtype: int64"
      ]
     },
     "execution_count": 15,
     "metadata": {},
     "output_type": "execute_result"
    }
   ],
   "source": [
    "df.isnull().sum()"
   ]
  },
  {
   "cell_type": "code",
   "execution_count": 16,
   "metadata": {
    "execution": {
     "iopub.execute_input": "2021-10-08T20:30:12.336113Z",
     "iopub.status.busy": "2021-10-08T20:30:12.335824Z",
     "iopub.status.idle": "2021-10-08T20:30:13.249441Z",
     "shell.execute_reply": "2021-10-08T20:30:13.248216Z",
     "shell.execute_reply.started": "2021-10-08T20:30:12.336084Z"
    }
   },
   "outputs": [
    {
     "data": {
      "text/plain": [
       "Yes    3765188\n",
       "No     1933173\n",
       "Name: symptomatic_yn, dtype: int64"
      ]
     },
     "execution_count": 16,
     "metadata": {},
     "output_type": "execute_result"
    }
   ],
   "source": [
    "df['symptomatic_yn'].value_counts()"
   ]
  },
  {
   "cell_type": "code",
   "execution_count": 17,
   "metadata": {
    "execution": {
     "iopub.execute_input": "2021-10-08T20:30:14.412937Z",
     "iopub.status.busy": "2021-10-08T20:30:14.412627Z",
     "iopub.status.idle": "2021-10-08T20:30:15.315046Z",
     "shell.execute_reply": "2021-10-08T20:30:15.314052Z",
     "shell.execute_reply.started": "2021-10-08T20:30:14.412905Z"
    }
   },
   "outputs": [
    {
     "data": {
      "text/plain": [
       "No     3397297\n",
       "Yes    2301064\n",
       "Name: tested_yn, dtype: int64"
      ]
     },
     "execution_count": 17,
     "metadata": {},
     "output_type": "execute_result"
    }
   ],
   "source": [
    "df['tested_yn'].value_counts()"
   ]
  },
  {
   "cell_type": "code",
   "execution_count": 18,
   "metadata": {
    "execution": {
     "iopub.execute_input": "2021-10-08T20:30:16.738585Z",
     "iopub.status.busy": "2021-10-08T20:30:16.738249Z",
     "iopub.status.idle": "2021-10-08T20:30:17.484432Z",
     "shell.execute_reply": "2021-10-08T20:30:17.483379Z",
     "shell.execute_reply.started": "2021-10-08T20:30:16.738554Z"
    }
   },
   "outputs": [
    {
     "data": {
      "text/plain": [
       "Laboratory-confirmed case    5430230\n",
       "Probable Case                 268131\n",
       "Name: current_status, dtype: int64"
      ]
     },
     "execution_count": 18,
     "metadata": {},
     "output_type": "execute_result"
    }
   ],
   "source": [
    "df['current_status'].value_counts()"
   ]
  },
  {
   "cell_type": "code",
   "execution_count": 19,
   "metadata": {
    "execution": {
     "iopub.execute_input": "2021-10-08T20:30:19.472728Z",
     "iopub.status.busy": "2021-10-08T20:30:19.472364Z",
     "iopub.status.idle": "2021-10-08T20:30:20.227134Z",
     "shell.execute_reply": "2021-10-08T20:30:20.225939Z",
     "shell.execute_reply.started": "2021-10-08T20:30:19.472696Z"
    }
   },
   "outputs": [
    {
     "data": {
      "text/plain": [
       "Female     2968353\n",
       "Male       2692258\n",
       "Unknown      31484\n",
       "Other          188\n",
       "Name: sex, dtype: int64"
      ]
     },
     "execution_count": 19,
     "metadata": {},
     "output_type": "execute_result"
    }
   ],
   "source": [
    "df['sex'].value_counts()"
   ]
  },
  {
   "cell_type": "code",
   "execution_count": 20,
   "metadata": {
    "execution": {
     "iopub.execute_input": "2021-10-08T20:30:25.576262Z",
     "iopub.status.busy": "2021-10-08T20:30:25.575939Z",
     "iopub.status.idle": "2021-10-08T20:30:26.321779Z",
     "shell.execute_reply": "2021-10-08T20:30:26.320675Z",
     "shell.execute_reply.started": "2021-10-08T20:30:25.576231Z"
    }
   },
   "outputs": [
    {
     "data": {
      "text/plain": [
       "20 - 29 Years    1086722\n",
       "30 - 39 Years     920351\n",
       "40 - 49 Years     852766\n",
       "50 - 59 Years     829723\n",
       "60 - 69 Years     596831\n",
       "10 - 19 Years     566842\n",
       "70 - 79 Years     346788\n",
       "80+ Years         286823\n",
       "0 - 9 Years       205602\n",
       "Unknown             5855\n",
       "Name: age_group, dtype: int64"
      ]
     },
     "execution_count": 20,
     "metadata": {},
     "output_type": "execute_result"
    }
   ],
   "source": [
    "df['age_group'].value_counts()"
   ]
  },
  {
   "cell_type": "code",
   "execution_count": 21,
   "metadata": {
    "execution": {
     "iopub.execute_input": "2021-10-08T20:30:30.721261Z",
     "iopub.status.busy": "2021-10-08T20:30:30.720940Z",
     "iopub.status.idle": "2021-10-08T20:30:31.448834Z",
     "shell.execute_reply": "2021-10-08T20:30:31.447823Z",
     "shell.execute_reply.started": "2021-10-08T20:30:30.721229Z"
    }
   },
   "outputs": [
    {
     "data": {
      "text/plain": [
       "White, Non-Hispanic                                     2022005\n",
       "Unknown                                                 1643725\n",
       "Hispanic/Latino                                          900633\n",
       "Black, Non-Hispanic                                      553444\n",
       "Multiple/Other, Non-Hispanic                             202833\n",
       "Asian, Non-Hispanic                                      116514\n",
       "American Indian/Alaska Native, Non-Hispanic               30585\n",
       "Native Hawaiian/Other Pacific Islander, Non-Hispanic      15815\n",
       "Name: Race and ethnicity (combined), dtype: int64"
      ]
     },
     "execution_count": 21,
     "metadata": {},
     "output_type": "execute_result"
    }
   ],
   "source": [
    "df['Race and ethnicity (combined)'].value_counts()"
   ]
  },
  {
   "cell_type": "code",
   "execution_count": 22,
   "metadata": {
    "execution": {
     "iopub.execute_input": "2021-10-08T20:30:32.738400Z",
     "iopub.status.busy": "2021-10-08T20:30:32.738085Z",
     "iopub.status.idle": "2021-10-08T20:30:33.463780Z",
     "shell.execute_reply": "2021-10-08T20:30:33.462738Z",
     "shell.execute_reply.started": "2021-10-08T20:30:32.738369Z"
    }
   },
   "outputs": [
    {
     "data": {
      "text/plain": [
       "No         3483906\n",
       "Unknown    1134615\n",
       "Yes         536254\n",
       "Name: hosp_yn, dtype: int64"
      ]
     },
     "execution_count": 22,
     "metadata": {},
     "output_type": "execute_result"
    }
   ],
   "source": [
    "df['hosp_yn'].value_counts()"
   ]
  },
  {
   "cell_type": "code",
   "execution_count": 23,
   "metadata": {
    "execution": {
     "iopub.execute_input": "2021-10-08T20:30:34.505827Z",
     "iopub.status.busy": "2021-10-08T20:30:34.505518Z",
     "iopub.status.idle": "2021-10-08T20:30:34.917112Z",
     "shell.execute_reply": "2021-10-08T20:30:34.916007Z",
     "shell.execute_reply.started": "2021-10-08T20:30:34.505796Z"
    }
   },
   "outputs": [
    {
     "data": {
      "text/plain": [
       "Unknown    1286227\n",
       "No          879622\n",
       "Yes          60889\n",
       "Name: icu_yn, dtype: int64"
      ]
     },
     "execution_count": 23,
     "metadata": {},
     "output_type": "execute_result"
    }
   ],
   "source": [
    "df['icu_yn'].value_counts()"
   ]
  },
  {
   "cell_type": "code",
   "execution_count": 24,
   "metadata": {
    "execution": {
     "iopub.execute_input": "2021-10-08T20:30:36.096584Z",
     "iopub.status.busy": "2021-10-08T20:30:36.096239Z",
     "iopub.status.idle": "2021-10-08T20:30:36.782333Z",
     "shell.execute_reply": "2021-10-08T20:30:36.781200Z",
     "shell.execute_reply.started": "2021-10-08T20:30:36.096551Z"
    }
   },
   "outputs": [
    {
     "data": {
      "text/plain": [
       "No         3684851\n",
       "Unknown    1042504\n",
       "Yes         181932\n",
       "Name: death_yn, dtype: int64"
      ]
     },
     "execution_count": 24,
     "metadata": {},
     "output_type": "execute_result"
    }
   ],
   "source": [
    "df['death_yn'].value_counts()"
   ]
  },
  {
   "cell_type": "code",
   "execution_count": 25,
   "metadata": {
    "execution": {
     "iopub.execute_input": "2021-10-08T20:30:38.034407Z",
     "iopub.status.busy": "2021-10-08T20:30:38.034089Z",
     "iopub.status.idle": "2021-10-08T20:30:38.449775Z",
     "shell.execute_reply": "2021-10-08T20:30:38.448546Z",
     "shell.execute_reply.started": "2021-10-08T20:30:38.034371Z"
    }
   },
   "outputs": [
    {
     "data": {
      "text/plain": [
       "Unknown    837599\n",
       "Yes        784972\n",
       "No         717998\n",
       "Name: medcond_yn, dtype: int64"
      ]
     },
     "execution_count": 25,
     "metadata": {},
     "output_type": "execute_result"
    }
   ],
   "source": [
    "df['medcond_yn'].value_counts()"
   ]
  },
  {
   "cell_type": "code",
   "execution_count": null,
   "metadata": {},
   "outputs": [],
   "source": [
    "#df['month'] = pd.DatetimeIndex(df['cdc_report_dt']).month\n",
    "#df['day'] = pd.DatetimeIndex(df['cdc_report_dt']).day\n",
    "#df['month_year'] = pd.to_datetime(df['cdc_report_dt']).dt.to_period('M')"
   ]
  },
  {
   "cell_type": "code",
   "execution_count": 26,
   "metadata": {
    "execution": {
     "iopub.execute_input": "2021-10-08T20:30:46.058151Z",
     "iopub.status.busy": "2021-10-08T20:30:46.057792Z",
     "iopub.status.idle": "2021-10-08T20:30:51.784262Z",
     "shell.execute_reply": "2021-10-08T20:30:51.783476Z",
     "shell.execute_reply.started": "2021-10-08T20:30:46.058119Z"
    }
   },
   "outputs": [
    {
     "data": {
      "image/png": "[encoded data removed]",
      "text/plain": [
       "<Figure size 432x288 with 1 Axes>"
      ]
     },
     "metadata": {
      "needs_background": "light"
     },
     "output_type": "display_data"
    }
   ],
   "source": [
    "x = df.groupby(df.index.month).count()['current_status']\n",
    "sns.barplot(x=x.index, y=x.values);\n",
    "plt.xticks(rotation=90);"
   ]
  },
  {
   "cell_type": "code",
   "execution_count": 13,
   "metadata": {
    "execution": {
     "iopub.execute_input": "2021-10-09T09:11:13.808389Z",
     "iopub.status.busy": "2021-10-09T09:11:13.808016Z",
     "iopub.status.idle": "2021-10-09T09:11:16.135562Z",
     "shell.execute_reply": "2021-10-09T09:11:16.134631Z",
     "shell.execute_reply.started": "2021-10-09T09:11:13.808353Z"
    }
   },
   "outputs": [],
   "source": [
    "d = df.groupby([df.index]).sex.value_counts().sort_index().unstack()"
   ]
  },
  {
   "cell_type": "code",
   "execution_count": 28,
   "metadata": {
    "execution": {
     "iopub.execute_input": "2021-10-08T20:31:04.471974Z",
     "iopub.status.busy": "2021-10-08T20:31:04.471674Z",
     "iopub.status.idle": "2021-10-08T20:31:04.922583Z",
     "shell.execute_reply": "2021-10-08T20:31:04.921673Z",
     "shell.execute_reply.started": "2021-10-08T20:31:04.471943Z"
    }
   },
   "outputs": [
    {
     "data": {
      "text/plain": [
       "<matplotlib.legend.Legend at 0x7f6187bfda50>"
      ]
     },
     "execution_count": 28,
     "metadata": {},
     "output_type": "execute_result"
    },
    {
     "data": {
      "image/png": "[encoded data removed]",
      "text/plain": [
       "<Figure size 1440x576 with 1 Axes>"
      ]
     },
     "metadata": {
      "needs_background": "light"
     },
     "output_type": "display_data"
    }
   ],
   "source": [
    "plt.figure(figsize=(20,8))\n",
    "d.Female.plot(color='b');\n",
    "d.Male.plot(color='r');\n",
    "plt.xticks(rotation=0);\n",
    "plt.xlabel('date', fontsize=18)\n",
    "plt.ylabel('number of cases per day', fontsize=18)\n",
    "plt.legend(['Male', 'Female'])"
   ]
  },
  {
   "cell_type": "code",
   "execution_count": null,
   "metadata": {},
   "outputs": [],
   "source": [
    "#x_male = df_male.groupby('month').count()['cdc_report_dt']\n",
    "#x_female = df_female.groupby('month').count()['cdc_report_dt']\n",
    "#sns.lineplot(x=x_male.index, y=x_male.values, color='b');\n",
    "#sns.lineplot(x=x_female.index, y=x_female.values, color='r');\n",
    "#plt.xticks(rotation=90);\n",
    "#plt.legend(['Male', 'Female'])"
   ]
  },
  {
   "cell_type": "code",
   "execution_count": null,
   "metadata": {},
   "outputs": [],
   "source": [
    "sns.histplot(data=df, x=\"age_group\");\n",
    "plt.xticks(rotation=60);"
   ]
  },
  {
   "cell_type": "code",
   "execution_count": null,
   "metadata": {},
   "outputs": [],
   "source": [
    "sns.histplot(data=df, x=\"Race and ethnicity (combined)\");\n",
    "plt.xticks(rotation=90);"
   ]
  },
  {
   "cell_type": "code",
   "execution_count": null,
   "metadata": {
    "execution": {
     "iopub.status.busy": "2021-10-08T21:09:07.679034Z",
     "iopub.status.idle": "2021-10-08T21:09:07.679438Z",
     "shell.execute_reply": "2021-10-08T21:09:07.679231Z",
     "shell.execute_reply.started": "2021-10-08T21:09:07.679212Z"
    }
   },
   "outputs": [],
   "source": [
    "sns.histplot(data=df, x=\"sex\");\n",
    "plt.xticks(rotation=45);"
   ]
  },
  {
   "cell_type": "code",
   "execution_count": null,
   "metadata": {},
   "outputs": [],
   "source": [
    "sns.histplot(data=df, x=\"day\");\n",
    "plt.xticks(rotation=90);"
   ]
  },
  {
   "cell_type": "code",
   "execution_count": null,
   "metadata": {},
   "outputs": [],
   "source": [
    "sns.histplot(data=df, x=\"hosp_yn\");\n",
    "plt.xticks(rotation=90);"
   ]
  },
  {
   "cell_type": "code",
   "execution_count": null,
   "metadata": {
    "execution": {
     "iopub.execute_input": "2021-10-08T21:19:01.443091Z",
     "iopub.status.busy": "2021-10-08T21:19:01.442149Z"
    }
   },
   "outputs": [],
   "source": [
    "sns.histplot(data=df, x=\"icu_yn\");\n",
    "plt.xticks(rotation=90);"
   ]
  },
  {
   "cell_type": "code",
   "execution_count": null,
   "metadata": {},
   "outputs": [],
   "source": [
    "sns.histplot(data=df, x=\"medcond_yn\");\n",
    "plt.xticks(rotation=90);"
   ]
  },
  {
   "cell_type": "code",
   "execution_count": null,
   "metadata": {},
   "outputs": [],
   "source": [
    "sns.histplot(data=df, x=\"death_yn\");\n",
    "plt.xticks(rotation=90);"
   ]
  },
  {
   "cell_type": "code",
   "execution_count": 15,
   "metadata": {
    "execution": {
     "iopub.execute_input": "2021-10-09T09:33:48.247867Z",
     "iopub.status.busy": "2021-10-09T09:33:48.247181Z",
     "iopub.status.idle": "2021-10-09T09:33:50.779019Z",
     "shell.execute_reply": "2021-10-09T09:33:50.777843Z",
     "shell.execute_reply.started": "2021-10-09T09:33:48.247830Z"
    }
   },
   "outputs": [],
   "source": [
    "df['age_group'].replace('Unknown', np.nan, inplace=True)\n",
    "df.dropna(subset=['age_group'], inplace=True)"
   ]
  },
  {
   "cell_type": "code",
   "execution_count": 16,
   "metadata": {
    "execution": {
     "iopub.execute_input": "2021-10-09T09:33:52.923264Z",
     "iopub.status.busy": "2021-10-09T09:33:52.922910Z",
     "iopub.status.idle": "2021-10-09T09:33:52.932164Z",
     "shell.execute_reply": "2021-10-09T09:33:52.931080Z",
     "shell.execute_reply.started": "2021-10-09T09:33:52.923223Z"
    }
   },
   "outputs": [
    {
     "data": {
      "text/plain": [
       "(5692448, 10)"
      ]
     },
     "execution_count": 16,
     "metadata": {},
     "output_type": "execute_result"
    }
   ],
   "source": [
    "df.shape"
   ]
  },
  {
   "cell_type": "code",
   "execution_count": null,
   "metadata": {},
   "outputs": [],
   "source": [
    "# drop rows with Missing and Unknown and Other values from 'sex' column\n",
    "#df.drop(df.loc[(df['sex'].isnull()) | (df['sex']=='Missing') | (df['sex']=='Unknown') | (df['sex']=='Other')].index, inplace=True)\n",
    "#df['sex'].value_counts()"
   ]
  },
  {
   "cell_type": "code",
   "execution_count": null,
   "metadata": {},
   "outputs": [],
   "source": [
    "# drop rows with Missing and Unknown and Other values from 'Race and ethnicity (combined)' column\n",
    "#df.drop(df.loc[df['Race and ethnicity (combined)']=='Missing'].index, inplace=True)\n",
    "#df['Race and ethnicity (combined)'].value_counts()"
   ]
  },
  {
   "cell_type": "markdown",
   "metadata": {},
   "source": [
    "## Data Visulization"
   ]
  },
  {
   "cell_type": "code",
   "execution_count": 17,
   "metadata": {
    "execution": {
     "iopub.execute_input": "2021-10-09T09:33:58.969649Z",
     "iopub.status.busy": "2021-10-09T09:33:58.969377Z",
     "iopub.status.idle": "2021-10-09T09:34:15.896218Z",
     "shell.execute_reply": "2021-10-09T09:34:15.895237Z",
     "shell.execute_reply.started": "2021-10-09T09:33:58.969622Z"
    }
   },
   "outputs": [
    {
     "name": "stderr",
     "output_type": "stream",
     "text": [
      "/opt/conda/lib/python3.7/site-packages/seaborn/_decorators.py:43: FutureWarning: Pass the following variable as a keyword arg: x. From version 0.12, the only valid positional argument will be `data`, and passing other arguments without an explicit keyword will result in an error or misinterpretation.\n",
      "  FutureWarning\n"
     ]
    },
    {
     "data": {
      "text/plain": [
       "<AxesSubplot:xlabel='age_group', ylabel='count'>"
      ]
     },
     "execution_count": 17,
     "metadata": {},
     "output_type": "execute_result"
    },
    {
     "data": {
      "image/png": "[encoded data removed]",
      "text/plain": [
       "<Figure size 432x288 with 1 Axes>"
      ]
     },
     "metadata": {
      "needs_background": "light"
     },
     "output_type": "display_data"
    }
   ],
   "source": [
    "plt.xticks(rotation=90)\n",
    "sns.countplot(df['age_group'],hue='death_yn',data=df)"
   ]
  },
  {
   "cell_type": "code",
   "execution_count": null,
   "metadata": {},
   "outputs": [],
   "source": [
    "plt.xticks(rotation=90)\n",
    "sns.countplot(df['month'],hue='death_yn',data=df)"
   ]
  },
  {
   "cell_type": "code",
   "execution_count": null,
   "metadata": {},
   "outputs": [],
   "source": [
    "sns.countplot(df['month'],hue='hosp_yn',data=df);"
   ]
  },
  {
   "cell_type": "code",
   "execution_count": 19,
   "metadata": {
    "execution": {
     "iopub.execute_input": "2021-10-09T09:34:45.010225Z",
     "iopub.status.busy": "2021-10-09T09:34:45.009901Z",
     "iopub.status.idle": "2021-10-09T09:35:02.216434Z",
     "shell.execute_reply": "2021-10-09T09:35:02.215802Z",
     "shell.execute_reply.started": "2021-10-09T09:34:45.010193Z"
    }
   },
   "outputs": [
    {
     "name": "stderr",
     "output_type": "stream",
     "text": [
      "/opt/conda/lib/python3.7/site-packages/seaborn/_decorators.py:43: FutureWarning: Pass the following variable as a keyword arg: x. From version 0.12, the only valid positional argument will be `data`, and passing other arguments without an explicit keyword will result in an error or misinterpretation.\n",
      "  FutureWarning\n"
     ]
    },
    {
     "data": {
      "image/png": "[encoded data removed]",
      "text/plain": [
       "<Figure size 432x288 with 1 Axes>"
      ]
     },
     "metadata": {
      "needs_background": "light"
     },
     "output_type": "display_data"
    }
   ],
   "source": [
    "sns.countplot(df['age_group'],hue='hosp_yn',data=df);\n",
    "plt.xticks(rotation=90);"
   ]
  },
  {
   "cell_type": "code",
   "execution_count": 20,
   "metadata": {
    "execution": {
     "iopub.execute_input": "2021-10-09T09:35:09.206647Z",
     "iopub.status.busy": "2021-10-09T09:35:09.205600Z",
     "iopub.status.idle": "2021-10-09T09:35:27.235978Z",
     "shell.execute_reply": "2021-10-09T09:35:27.234925Z",
     "shell.execute_reply.started": "2021-10-09T09:35:09.206582Z"
    }
   },
   "outputs": [
    {
     "name": "stderr",
     "output_type": "stream",
     "text": [
      "/opt/conda/lib/python3.7/site-packages/seaborn/_decorators.py:43: FutureWarning: Pass the following variable as a keyword arg: x. From version 0.12, the only valid positional argument will be `data`, and passing other arguments without an explicit keyword will result in an error or misinterpretation.\n",
      "  FutureWarning\n"
     ]
    },
    {
     "data": {
      "image/png": "[encoded data removed]",
      "text/plain": [
       "<Figure size 432x288 with 1 Axes>"
      ]
     },
     "metadata": {
      "needs_background": "light"
     },
     "output_type": "display_data"
    }
   ],
   "source": [
    "sns.countplot(df['death_yn'],hue='hosp_yn',data=df);"
   ]
  },
  {
   "cell_type": "code",
   "execution_count": 21,
   "metadata": {
    "execution": {
     "iopub.execute_input": "2021-10-09T09:35:31.747397Z",
     "iopub.status.busy": "2021-10-09T09:35:31.746685Z",
     "iopub.status.idle": "2021-10-09T09:35:46.554920Z",
     "shell.execute_reply": "2021-10-09T09:35:46.554066Z",
     "shell.execute_reply.started": "2021-10-09T09:35:31.747334Z"
    }
   },
   "outputs": [
    {
     "name": "stderr",
     "output_type": "stream",
     "text": [
      "/opt/conda/lib/python3.7/site-packages/seaborn/_decorators.py:43: FutureWarning: Pass the following variable as a keyword arg: x. From version 0.12, the only valid positional argument will be `data`, and passing other arguments without an explicit keyword will result in an error or misinterpretation.\n",
      "  FutureWarning\n"
     ]
    },
    {
     "data": {
      "image/png": "[encoded data removed]",
      "text/plain": [
       "<Figure size 432x288 with 1 Axes>"
      ]
     },
     "metadata": {
      "needs_background": "light"
     },
     "output_type": "display_data"
    }
   ],
   "source": [
    "sns.countplot(df['icu_yn'],hue='hosp_yn',data=df);"
   ]
  },
  {
   "cell_type": "markdown",
   "metadata": {},
   "source": [
    "from this figures shown that the high percentage of people who went to hospital in the first months, and most of people who wnt to hospital were older than 60 years old, and most of dead people went to hospital, and all of people who went to icu also went to hospital wich make sense. "
   ]
  },
  {
   "cell_type": "code",
   "execution_count": null,
   "metadata": {},
   "outputs": [],
   "source": [
    "sns.countplot(df['month'],hue='icu_yn',data=df);"
   ]
  },
  {
   "cell_type": "code",
   "execution_count": null,
   "metadata": {},
   "outputs": [],
   "source": [
    "sns.countplot(df['month'],hue='medcond_yn',data=df);"
   ]
  },
  {
   "cell_type": "code",
   "execution_count": 22,
   "metadata": {
    "execution": {
     "iopub.execute_input": "2021-10-09T09:35:53.538513Z",
     "iopub.status.busy": "2021-10-09T09:35:53.538179Z",
     "iopub.status.idle": "2021-10-09T09:36:24.156884Z",
     "shell.execute_reply": "2021-10-09T09:36:24.155583Z",
     "shell.execute_reply.started": "2021-10-09T09:35:53.538469Z"
    }
   },
   "outputs": [],
   "source": [
    "age = ['0 - 9 Years', '10 - 19 Years', '20 - 29 Years', '30 - 39 Years', '40 - 49 Years',\n",
    "       '50 - 59 Years', '60 - 69 Years', '70 - 79 Years', '80+ Years']\n",
    "\n",
    "def create_list(value):\n",
    "    range_age = []\n",
    "    for old in value:\n",
    "        sam = []\n",
    "        range_old = old\n",
    "        len_old_yes = len(df[(df['death_yn'] == 'Yes') & (df['age_group'] == old)])\n",
    "        len_old_no = len(df[(df['death_yn'] == 'No') & (df['age_group'] == old)])\n",
    "        sam.append(range_old)\n",
    "        sam.append(len_old_yes)\n",
    "        sam.append(len_old_no)\n",
    "        range_age.append(sam)\n",
    "    return range_age\n",
    "\n",
    "## convert list to DataFrame\n",
    "new_df = pd.DataFrame(create_list(age), columns=['year', 'Death', 'Alive'])"
   ]
  },
  {
   "cell_type": "code",
   "execution_count": 23,
   "metadata": {
    "execution": {
     "iopub.execute_input": "2021-10-09T09:36:27.483114Z",
     "iopub.status.busy": "2021-10-09T09:36:27.481987Z",
     "iopub.status.idle": "2021-10-09T09:36:28.752905Z",
     "shell.execute_reply": "2021-10-09T09:36:28.751931Z",
     "shell.execute_reply.started": "2021-10-09T09:36:27.483020Z"
    }
   },
   "outputs": [
    {
     "data": {
      "image/png": "[encoded data removed]",
      "text/plain": [
       "<Figure size 1080x1080 with 2 Axes>"
      ]
     },
     "metadata": {},
     "output_type": "display_data"
    },
    {
     "data": {
      "image/png": "[encoded data removed]",
      "text/plain": [
       "<Figure size 432x288 with 1 Axes>"
      ]
     },
     "metadata": {
      "needs_background": "light"
     },
     "output_type": "display_data"
    }
   ],
   "source": [
    "## Plot pie chart Dearth\n",
    "plt.figure(figsize=(15, 15))\n",
    "plt.subplot(121)\n",
    "explode = (0.1, 0.1, 0.1, 0.1, 0.1, 0.1, 0.1, 0.1, 0.1)  # explode 1st slice\n",
    "plt.pie(new_df['Death'], startangle = 90, explode=explode, autopct='%1.0f%%', shadow=True)\n",
    "plt.legend(labels=new_df['year'])\n",
    "plt.title(\"Death in 2020/11/10 to 2020/11/14\")\n",
    "\n",
    "## Plot pie chart Alive\n",
    "plt.subplot(122)\n",
    "plt.pie(new_df['Alive'], startangle = 90, explode=explode, autopct='%1.0f%%', shadow=True)\n",
    "plt.legend(labels=new_df['year'])\n",
    "plt.title(\"Alive in 2020/11/10 to 2020/11/14\")\n",
    "plt.show()\n",
    "\n",
    "## Show Table\n",
    "fig, ax = plt.subplots()\n",
    "ax.table(cellText=new_df.values, colLabels=new_df.columns, loc=\"center\")\n",
    "ax.axis('off')\n",
    "fig.tight_layout()\n",
    "plt.show()"
   ]
  },
  {
   "cell_type": "markdown",
   "metadata": {},
   "source": [
    "from this pie chart shown that most of dead people were older that 50 years old although the percentage of cases were from young people."
   ]
  },
  {
   "cell_type": "code",
   "execution_count": 24,
   "metadata": {
    "execution": {
     "iopub.execute_input": "2021-10-09T09:36:35.153935Z",
     "iopub.status.busy": "2021-10-09T09:36:35.153579Z",
     "iopub.status.idle": "2021-10-09T09:36:48.185457Z",
     "shell.execute_reply": "2021-10-09T09:36:48.184355Z",
     "shell.execute_reply.started": "2021-10-09T09:36:35.153901Z"
    }
   },
   "outputs": [
    {
     "name": "stderr",
     "output_type": "stream",
     "text": [
      "/opt/conda/lib/python3.7/site-packages/seaborn/_decorators.py:43: FutureWarning: Pass the following variable as a keyword arg: x. From version 0.12, the only valid positional argument will be `data`, and passing other arguments without an explicit keyword will result in an error or misinterpretation.\n",
      "  FutureWarning\n"
     ]
    },
    {
     "data": {
      "image/png": "[encoded data removed]",
      "text/plain": [
       "<Figure size 432x288 with 1 Axes>"
      ]
     },
     "metadata": {
      "needs_background": "light"
     },
     "output_type": "display_data"
    }
   ],
   "source": [
    "sns.countplot('current_status',hue='death_yn',data=df);"
   ]
  },
  {
   "cell_type": "code",
   "execution_count": 25,
   "metadata": {
    "execution": {
     "iopub.execute_input": "2021-10-09T09:36:53.655747Z",
     "iopub.status.busy": "2021-10-09T09:36:53.655470Z",
     "iopub.status.idle": "2021-10-09T09:37:06.815774Z",
     "shell.execute_reply": "2021-10-09T09:37:06.815020Z",
     "shell.execute_reply.started": "2021-10-09T09:36:53.655719Z"
    }
   },
   "outputs": [
    {
     "name": "stderr",
     "output_type": "stream",
     "text": [
      "/opt/conda/lib/python3.7/site-packages/seaborn/_decorators.py:43: FutureWarning: Pass the following variable as a keyword arg: x. From version 0.12, the only valid positional argument will be `data`, and passing other arguments without an explicit keyword will result in an error or misinterpretation.\n",
      "  FutureWarning\n"
     ]
    },
    {
     "data": {
      "image/png": "[encoded data removed]",
      "text/plain": [
       "<Figure size 432x288 with 1 Axes>"
      ]
     },
     "metadata": {
      "needs_background": "light"
     },
     "output_type": "display_data"
    }
   ],
   "source": [
    "sns.countplot('current_status',hue='hosp_yn',data=df);"
   ]
  },
  {
   "cell_type": "code",
   "execution_count": 26,
   "metadata": {
    "execution": {
     "iopub.execute_input": "2021-10-09T09:37:11.948731Z",
     "iopub.status.busy": "2021-10-09T09:37:11.948422Z",
     "iopub.status.idle": "2021-10-09T09:37:23.263779Z",
     "shell.execute_reply": "2021-10-09T09:37:23.263254Z",
     "shell.execute_reply.started": "2021-10-09T09:37:11.948704Z"
    }
   },
   "outputs": [
    {
     "name": "stderr",
     "output_type": "stream",
     "text": [
      "/opt/conda/lib/python3.7/site-packages/seaborn/_decorators.py:43: FutureWarning: Pass the following variable as a keyword arg: x. From version 0.12, the only valid positional argument will be `data`, and passing other arguments without an explicit keyword will result in an error or misinterpretation.\n",
      "  FutureWarning\n"
     ]
    },
    {
     "data": {
      "image/png": "[encoded data removed]",
      "text/plain": [
       "<Figure size 432x288 with 1 Axes>"
      ]
     },
     "metadata": {
      "needs_background": "light"
     },
     "output_type": "display_data"
    }
   ],
   "source": [
    "sns.countplot('current_status',hue='icu_yn',data=df);"
   ]
  },
  {
   "cell_type": "markdown",
   "metadata": {},
   "source": [
    "## Data Preprossing "
   ]
  },
  {
   "cell_type": "code",
   "execution_count": 27,
   "metadata": {
    "execution": {
     "iopub.execute_input": "2021-10-09T09:37:34.869812Z",
     "iopub.status.busy": "2021-10-09T09:37:34.868812Z",
     "iopub.status.idle": "2021-10-09T09:37:40.626992Z",
     "shell.execute_reply": "2021-10-09T09:37:40.626311Z",
     "shell.execute_reply.started": "2021-10-09T09:37:34.869767Z"
    }
   },
   "outputs": [],
   "source": [
    "df['age'] = df['age_group'].replace({'0 - 9 Years':0, '10 - 19 Years':1, '20 - 29 Years':2, '30 - 39 Years':3, '40 - 49 Years':4,\n",
    "       '50 - 59 Years':5, '60 - 69 Years':6, '70 - 79 Years':7, '80+ Years':8})"
   ]
  },
  {
   "cell_type": "code",
   "execution_count": 28,
   "metadata": {
    "execution": {
     "iopub.execute_input": "2021-10-09T09:40:02.667296Z",
     "iopub.status.busy": "2021-10-09T09:40:02.665227Z",
     "iopub.status.idle": "2021-10-09T09:40:07.910164Z",
     "shell.execute_reply": "2021-10-09T09:40:07.909011Z",
     "shell.execute_reply.started": "2021-10-09T09:40:02.667238Z"
    }
   },
   "outputs": [
    {
     "data": {
      "text/html": [
       "<div>\n",
       "<style scoped>\n",
       "    .dataframe tbody tr th:only-of-type {\n",
       "        vertical-align: middle;\n",
       "    }\n",
       "\n",
       "    .dataframe tbody tr th {\n",
       "        vertical-align: top;\n",
       "    }\n",
       "\n",
       "    .dataframe thead th {\n",
       "        text-align: right;\n",
       "    }\n",
       "</style>\n",
       "<table border=\"1\" class=\"dataframe\">\n",
       "  <thead>\n",
       "    <tr style=\"text-align: right;\">\n",
       "      <th></th>\n",
       "      <th>age_group</th>\n",
       "      <th>Race and ethnicity (combined)</th>\n",
       "      <th>hosp_yn</th>\n",
       "      <th>icu_yn</th>\n",
       "      <th>death_yn</th>\n",
       "      <th>medcond_yn</th>\n",
       "      <th>age</th>\n",
       "      <th>current_status_Probable Case</th>\n",
       "      <th>sex_Male</th>\n",
       "      <th>sex_Other</th>\n",
       "      <th>sex_Unknown</th>\n",
       "      <th>symptomatic_yn_Yes</th>\n",
       "      <th>tested_yn_Yes</th>\n",
       "    </tr>\n",
       "    <tr>\n",
       "      <th>cdc_report_dt</th>\n",
       "      <th></th>\n",
       "      <th></th>\n",
       "      <th></th>\n",
       "      <th></th>\n",
       "      <th></th>\n",
       "      <th></th>\n",
       "      <th></th>\n",
       "      <th></th>\n",
       "      <th></th>\n",
       "      <th></th>\n",
       "      <th></th>\n",
       "      <th></th>\n",
       "      <th></th>\n",
       "    </tr>\n",
       "  </thead>\n",
       "  <tbody>\n",
       "    <tr>\n",
       "      <th>2020-11-10</th>\n",
       "      <td>10 - 19 Years</td>\n",
       "      <td>Black, Non-Hispanic</td>\n",
       "      <td>No</td>\n",
       "      <td>Unknown</td>\n",
       "      <td>No</td>\n",
       "      <td>No</td>\n",
       "      <td>1</td>\n",
       "      <td>0</td>\n",
       "      <td>1</td>\n",
       "      <td>0</td>\n",
       "      <td>0</td>\n",
       "      <td>0</td>\n",
       "      <td>1</td>\n",
       "    </tr>\n",
       "    <tr>\n",
       "      <th>2020-11-14</th>\n",
       "      <td>10 - 19 Years</td>\n",
       "      <td>Black, Non-Hispanic</td>\n",
       "      <td>No</td>\n",
       "      <td>No</td>\n",
       "      <td>No</td>\n",
       "      <td>No</td>\n",
       "      <td>1</td>\n",
       "      <td>0</td>\n",
       "      <td>1</td>\n",
       "      <td>0</td>\n",
       "      <td>0</td>\n",
       "      <td>1</td>\n",
       "      <td>1</td>\n",
       "    </tr>\n",
       "    <tr>\n",
       "      <th>2020-11-19</th>\n",
       "      <td>10 - 19 Years</td>\n",
       "      <td>Black, Non-Hispanic</td>\n",
       "      <td>No</td>\n",
       "      <td>No</td>\n",
       "      <td>No</td>\n",
       "      <td>No</td>\n",
       "      <td>1</td>\n",
       "      <td>0</td>\n",
       "      <td>1</td>\n",
       "      <td>0</td>\n",
       "      <td>0</td>\n",
       "      <td>1</td>\n",
       "      <td>1</td>\n",
       "    </tr>\n",
       "    <tr>\n",
       "      <th>2020-11-14</th>\n",
       "      <td>10 - 19 Years</td>\n",
       "      <td>Black, Non-Hispanic</td>\n",
       "      <td>NaN</td>\n",
       "      <td>NaN</td>\n",
       "      <td>No</td>\n",
       "      <td>NaN</td>\n",
       "      <td>1</td>\n",
       "      <td>0</td>\n",
       "      <td>1</td>\n",
       "      <td>0</td>\n",
       "      <td>0</td>\n",
       "      <td>0</td>\n",
       "      <td>1</td>\n",
       "    </tr>\n",
       "    <tr>\n",
       "      <th>2020-11-13</th>\n",
       "      <td>10 - 19 Years</td>\n",
       "      <td>Black, Non-Hispanic</td>\n",
       "      <td>No</td>\n",
       "      <td>No</td>\n",
       "      <td>No</td>\n",
       "      <td>Yes</td>\n",
       "      <td>1</td>\n",
       "      <td>0</td>\n",
       "      <td>1</td>\n",
       "      <td>0</td>\n",
       "      <td>0</td>\n",
       "      <td>1</td>\n",
       "      <td>1</td>\n",
       "    </tr>\n",
       "  </tbody>\n",
       "</table>\n",
       "</div>"
      ],
      "text/plain": [
       "                   age_group Race and ethnicity (combined) hosp_yn   icu_yn  \\\n",
       "cdc_report_dt                                                                 \n",
       "2020-11-10     10 - 19 Years           Black, Non-Hispanic      No  Unknown   \n",
       "2020-11-14     10 - 19 Years           Black, Non-Hispanic      No       No   \n",
       "2020-11-19     10 - 19 Years           Black, Non-Hispanic      No       No   \n",
       "2020-11-14     10 - 19 Years           Black, Non-Hispanic     NaN      NaN   \n",
       "2020-11-13     10 - 19 Years           Black, Non-Hispanic      No       No   \n",
       "\n",
       "              death_yn medcond_yn  age  current_status_Probable Case  \\\n",
       "cdc_report_dt                                                          \n",
       "2020-11-10          No         No    1                             0   \n",
       "2020-11-14          No         No    1                             0   \n",
       "2020-11-19          No         No    1                             0   \n",
       "2020-11-14          No        NaN    1                             0   \n",
       "2020-11-13          No        Yes    1                             0   \n",
       "\n",
       "               sex_Male  sex_Other  sex_Unknown  symptomatic_yn_Yes  \\\n",
       "cdc_report_dt                                                         \n",
       "2020-11-10            1          0            0                   0   \n",
       "2020-11-14            1          0            0                   1   \n",
       "2020-11-19            1          0            0                   1   \n",
       "2020-11-14            1          0            0                   0   \n",
       "2020-11-13            1          0            0                   1   \n",
       "\n",
       "               tested_yn_Yes  \n",
       "cdc_report_dt                 \n",
       "2020-11-10                 1  \n",
       "2020-11-14                 1  \n",
       "2020-11-19                 1  \n",
       "2020-11-14                 1  \n",
       "2020-11-13                 1  "
      ]
     },
     "execution_count": 28,
     "metadata": {},
     "output_type": "execute_result"
    }
   ],
   "source": [
    "df_encoded = pd.get_dummies(df, columns=[\"current_status\", \"sex\", \"symptomatic_yn\", \"tested_yn\"], drop_first=True)\n",
    "df_encoded.head()"
   ]
  },
  {
   "cell_type": "code",
   "execution_count": 29,
   "metadata": {
    "execution": {
     "iopub.execute_input": "2021-10-09T09:40:11.923432Z",
     "iopub.status.busy": "2021-10-09T09:40:11.923085Z",
     "iopub.status.idle": "2021-10-09T09:40:11.929866Z",
     "shell.execute_reply": "2021-10-09T09:40:11.929158Z",
     "shell.execute_reply.started": "2021-10-09T09:40:11.923398Z"
    }
   },
   "outputs": [
    {
     "data": {
      "text/plain": [
       "(5692448, 13)"
      ]
     },
     "execution_count": 29,
     "metadata": {},
     "output_type": "execute_result"
    }
   ],
   "source": [
    "df_encoded.shape"
   ]
  },
  {
   "cell_type": "code",
   "execution_count": 30,
   "metadata": {
    "execution": {
     "iopub.execute_input": "2021-10-09T09:40:15.577803Z",
     "iopub.status.busy": "2021-10-09T09:40:15.577274Z",
     "iopub.status.idle": "2021-10-09T09:40:15.965960Z",
     "shell.execute_reply": "2021-10-09T09:40:15.965018Z",
     "shell.execute_reply.started": "2021-10-09T09:40:15.577751Z"
    }
   },
   "outputs": [],
   "source": [
    "df_encoded.drop('age_group', axis=1, inplace=True)"
   ]
  },
  {
   "cell_type": "code",
   "execution_count": 31,
   "metadata": {
    "execution": {
     "iopub.execute_input": "2021-10-09T09:40:19.630011Z",
     "iopub.status.busy": "2021-10-09T09:40:19.629543Z",
     "iopub.status.idle": "2021-10-09T09:40:22.522318Z",
     "shell.execute_reply": "2021-10-09T09:40:22.521095Z",
     "shell.execute_reply.started": "2021-10-09T09:40:19.629978Z"
    }
   },
   "outputs": [
    {
     "data": {
      "text/plain": [
       "Race and ethnicity (combined)     212613\n",
       "hosp_yn                           542217\n",
       "icu_yn                           3467435\n",
       "death_yn                          788526\n",
       "medcond_yn                       3353683\n",
       "age                                    0\n",
       "current_status_Probable Case           0\n",
       "sex_Male                               0\n",
       "sex_Other                              0\n",
       "sex_Unknown                            0\n",
       "symptomatic_yn_Yes                     0\n",
       "tested_yn_Yes                          0\n",
       "dtype: int64"
      ]
     },
     "execution_count": 31,
     "metadata": {},
     "output_type": "execute_result"
    }
   ],
   "source": [
    "df_encoded.isnull().sum()"
   ]
  },
  {
   "cell_type": "code",
   "execution_count": 32,
   "metadata": {
    "execution": {
     "iopub.execute_input": "2021-10-09T09:40:27.144219Z",
     "iopub.status.busy": "2021-10-09T09:40:27.143850Z",
     "iopub.status.idle": "2021-10-09T09:42:49.524927Z",
     "shell.execute_reply": "2021-10-09T09:42:49.523191Z",
     "shell.execute_reply.started": "2021-10-09T09:40:27.144182Z"
    }
   },
   "outputs": [
    {
     "name": "stdout",
     "output_type": "stream",
     "text": [
      "0.8472318226564639\n",
      "0.845763348662731\n"
     ]
    }
   ],
   "source": [
    "# use RandomForestClassifier to fill the misiing values of 'hosp_yn'\n",
    "rf_hosp = RandomForestClassifier(n_estimators=10)\n",
    "\n",
    "df_hosp = pd.get_dummies(df_encoded, columns=[\"icu_yn\", \"death_yn\", \"medcond_yn\", 'Race and ethnicity (combined)'])\n",
    "train_hosp = df_hosp.loc[(df_encoded['hosp_yn'].notnull())]  # known hosp values\n",
    "test_hosp = df_hosp.loc[(df_encoded['hosp_yn'].isnull())]  # all nan hosp values\n",
    "\n",
    "features = train_hosp.drop(['hosp_yn'], axis=1)\n",
    "label = train_hosp['hosp_yn']\n",
    "X_train, X_val, y_train, y_val = train_test_split(features, label, test_size=.2, random_state=42)\n",
    "X_test = test_hosp.drop(['hosp_yn'], axis=1)\n",
    "\n",
    "rf_hosp.fit(X_train, y_train)\n",
    "\n",
    "print(rf_hosp.score(X_train, y_train))\n",
    "print(rf_hosp.score(X_val, y_val))"
   ]
  },
  {
   "cell_type": "code",
   "execution_count": 33,
   "metadata": {
    "execution": {
     "iopub.execute_input": "2021-10-09T09:43:04.605048Z",
     "iopub.status.busy": "2021-10-09T09:43:04.604733Z",
     "iopub.status.idle": "2021-10-09T09:44:49.699510Z",
     "shell.execute_reply": "2021-10-09T09:44:49.698332Z",
     "shell.execute_reply.started": "2021-10-09T09:43:04.605003Z"
    }
   },
   "outputs": [
    {
     "name": "stdout",
     "output_type": "stream",
     "text": [
      "[[655212  33439   8275]\n",
      " [ 47279 174181   4330]\n",
      " [ 53165  12383  41783]]\n",
      "              precision    recall  f1-score   support\n",
      "\n",
      "          No       0.87      0.94      0.90    696926\n",
      "     Unknown       0.79      0.77      0.78    225790\n",
      "         Yes       0.77      0.39      0.52    107331\n",
      "\n",
      "    accuracy                           0.85   1030047\n",
      "   macro avg       0.81      0.70      0.73   1030047\n",
      "weighted avg       0.84      0.85      0.84   1030047\n",
      "\n"
     ]
    }
   ],
   "source": [
    "# for hosp_yn column\n",
    "print(confusion_matrix(y_val, rf_hosp.predict(X_val)))\n",
    "print(classification_report(y_val, rf_hosp.predict(X_val)))"
   ]
  },
  {
   "cell_type": "code",
   "execution_count": 34,
   "metadata": {
    "execution": {
     "iopub.execute_input": "2021-10-09T09:45:22.488719Z",
     "iopub.status.busy": "2021-10-09T09:45:22.488442Z",
     "iopub.status.idle": "2021-10-09T09:45:24.172760Z",
     "shell.execute_reply": "2021-10-09T09:45:24.171759Z",
     "shell.execute_reply.started": "2021-10-09T09:45:22.488691Z"
    }
   },
   "outputs": [],
   "source": [
    "df_encoded.loc[(df_encoded['hosp_yn'].isnull(), 'hosp_yn')] = rf_hosp.predict(X_test)"
   ]
  },
  {
   "cell_type": "code",
   "execution_count": null,
   "metadata": {},
   "outputs": [],
   "source": [
    "sns.histplot(data=df_encoded, x=\"hosp_yn\", color='r');\n",
    "sns.histplot(data=df, x=\"hosp_yn\", color='b');\n",
    "plt.xticks(rotation=90);"
   ]
  },
  {
   "cell_type": "code",
   "execution_count": 36,
   "metadata": {
    "execution": {
     "iopub.execute_input": "2021-10-09T09:52:17.081473Z",
     "iopub.status.busy": "2021-10-09T09:52:17.081132Z",
     "iopub.status.idle": "2021-10-09T09:53:11.733960Z",
     "shell.execute_reply": "2021-10-09T09:53:11.732821Z",
     "shell.execute_reply.started": "2021-10-09T09:52:17.081439Z"
    }
   },
   "outputs": [
    {
     "name": "stdout",
     "output_type": "stream",
     "text": [
      "0.7087009596945396\n",
      "0.702011531727215\n"
     ]
    }
   ],
   "source": [
    "# use RandomForestClassifier to fill the misiing values of 'medcond_yn'\n",
    "rf_medcond = RandomForestClassifier(n_estimators=10)\n",
    "\n",
    "df_medcond = pd.get_dummies(df_encoded, columns=[\"icu_yn\", \"death_yn\", \"hosp_yn\", 'Race and ethnicity (combined)'])\n",
    "train_medcond = df_medcond.loc[(df_encoded['medcond_yn'].notnull())]  # known medcond values\n",
    "test_medcond = df_medcond.loc[(df_encoded['medcond_yn'].isnull())] # all nan medcond values\n",
    "\n",
    "features = train_medcond.drop(['medcond_yn'], axis=1)\n",
    "label = train_medcond['medcond_yn']\n",
    "X_train, X_val, y_train, y_val = train_test_split(features, label, test_size=.2, random_state=42)\n",
    "X_test = test_medcond.drop(['medcond_yn'], axis=1)\n",
    "\n",
    "rf_medcond.fit(X_train, y_train)\n",
    "\n",
    "print(rf_medcond.score(X_train, y_train))\n",
    "print(rf_medcond.score(X_val, y_val))"
   ]
  },
  {
   "cell_type": "code",
   "execution_count": 37,
   "metadata": {
    "execution": {
     "iopub.execute_input": "2021-10-09T09:53:49.531008Z",
     "iopub.status.busy": "2021-10-09T09:53:49.530708Z",
     "iopub.status.idle": "2021-10-09T09:54:34.240411Z",
     "shell.execute_reply": "2021-10-09T09:54:34.239287Z",
     "shell.execute_reply.started": "2021-10-09T09:53:49.530971Z"
    }
   },
   "outputs": [
    {
     "name": "stdout",
     "output_type": "stream",
     "text": [
      "[[104859   7060  31789]\n",
      " [ 19856 126659  20864]\n",
      " [ 45031  14785  96850]]\n",
      "              precision    recall  f1-score   support\n",
      "\n",
      "          No       0.62      0.73      0.67    143708\n",
      "     Unknown       0.85      0.76      0.80    167379\n",
      "         Yes       0.65      0.62      0.63    156666\n",
      "\n",
      "    accuracy                           0.70    467753\n",
      "   macro avg       0.71      0.70      0.70    467753\n",
      "weighted avg       0.71      0.70      0.70    467753\n",
      "\n"
     ]
    }
   ],
   "source": [
    "# for medcond_yn column\n",
    "print(confusion_matrix(y_val, rf_medcond.predict(X_val)))\n",
    "print(classification_report(y_val, rf_medcond.predict(X_val)))"
   ]
  },
  {
   "cell_type": "code",
   "execution_count": 38,
   "metadata": {
    "execution": {
     "iopub.execute_input": "2021-10-09T09:54:52.032150Z",
     "iopub.status.busy": "2021-10-09T09:54:52.031769Z",
     "iopub.status.idle": "2021-10-09T09:54:58.166464Z",
     "shell.execute_reply": "2021-10-09T09:54:58.165339Z",
     "shell.execute_reply.started": "2021-10-09T09:54:52.032113Z"
    }
   },
   "outputs": [],
   "source": [
    "df_encoded.loc[(df_encoded['medcond_yn'].isnull(), 'medcond_yn')] = rf_medcond.predict(X_test)"
   ]
  },
  {
   "cell_type": "code",
   "execution_count": null,
   "metadata": {},
   "outputs": [],
   "source": [
    "#df_encoded['medcond_yn'].value_counts()"
   ]
  },
  {
   "cell_type": "code",
   "execution_count": null,
   "metadata": {},
   "outputs": [],
   "source": [
    "sns.histplot(data=df_encoded, x=\"medcond_yn\", color='r');\n",
    "sns.histplot(data=df, x=\"medcond_yn\", color='b');\n",
    "plt.xticks(rotation=90);"
   ]
  },
  {
   "cell_type": "code",
   "execution_count": 39,
   "metadata": {
    "execution": {
     "iopub.execute_input": "2021-10-09T09:55:01.782003Z",
     "iopub.status.busy": "2021-10-09T09:55:01.780829Z",
     "iopub.status.idle": "2021-10-09T09:55:51.012415Z",
     "shell.execute_reply": "2021-10-09T09:55:51.011156Z",
     "shell.execute_reply.started": "2021-10-09T09:55:01.781931Z"
    }
   },
   "outputs": [
    {
     "name": "stdout",
     "output_type": "stream",
     "text": [
      "0.8293307340969994\n",
      "0.8266663370808736\n"
     ]
    }
   ],
   "source": [
    "# use RandomForestClassifier to fill the misiing values of 'icu_yn'\n",
    "rf_icu = RandomForestClassifier(n_estimators=10)\n",
    "\n",
    "df_icu = pd.get_dummies(df_encoded, columns=[\"medcond_yn\", \"death_yn\", \"hosp_yn\",'Race and ethnicity (combined)'])\n",
    "train_icu = df_icu.loc[(df_encoded['icu_yn'].notnull())]  # known icu values\n",
    "test_icu = df_icu.loc[(df_encoded['icu_yn'].isnull())]  # all nan icu values\n",
    "\n",
    "features = train_icu.drop('icu_yn', axis=1)\n",
    "label = train_icu['icu_yn']\n",
    "X_train, X_val, y_train, y_val = train_test_split(features, label, test_size=.2, random_state=42)\n",
    "X_test = test_icu.drop('icu_yn', axis=1)\n",
    "\n",
    "rf_icu.fit(X_train, y_train)\n",
    "\n",
    "print(rf_icu.score(X_train, y_train))\n",
    "print(rf_icu.score(X_val, y_val))"
   ]
  },
  {
   "cell_type": "code",
   "execution_count": 40,
   "metadata": {
    "execution": {
     "iopub.execute_input": "2021-10-09T09:55:59.425767Z",
     "iopub.status.busy": "2021-10-09T09:55:59.425489Z",
     "iopub.status.idle": "2021-10-09T09:56:41.337762Z",
     "shell.execute_reply": "2021-10-09T09:56:41.336476Z",
     "shell.execute_reply.started": "2021-10-09T09:55:59.425740Z"
    }
   },
   "outputs": [
    {
     "name": "stdout",
     "output_type": "stream",
     "text": [
      "[[151134  23691   1179]\n",
      " [ 42130 213573   1262]\n",
      " [  4777   4095   3162]]\n",
      "              precision    recall  f1-score   support\n",
      "\n",
      "          No       0.76      0.86      0.81    176004\n",
      "     Unknown       0.88      0.83      0.86    256965\n",
      "         Yes       0.56      0.26      0.36     12034\n",
      "\n",
      "    accuracy                           0.83    445003\n",
      "   macro avg       0.74      0.65      0.67    445003\n",
      "weighted avg       0.83      0.83      0.82    445003\n",
      "\n"
     ]
    }
   ],
   "source": [
    "# for icu_yn column\n",
    "print(confusion_matrix(y_val, rf_icu.predict(X_val)))\n",
    "print(classification_report(y_val, rf_icu.predict(X_val)))"
   ]
  },
  {
   "cell_type": "code",
   "execution_count": 41,
   "metadata": {
    "execution": {
     "iopub.execute_input": "2021-10-09T09:56:49.913573Z",
     "iopub.status.busy": "2021-10-09T09:56:49.913284Z",
     "iopub.status.idle": "2021-10-09T09:56:56.162717Z",
     "shell.execute_reply": "2021-10-09T09:56:56.161739Z",
     "shell.execute_reply.started": "2021-10-09T09:56:49.913545Z"
    }
   },
   "outputs": [],
   "source": [
    "df_encoded.loc[(df_encoded['icu_yn'].isnull(), 'icu_yn')] = rf_icu.predict(X_test)"
   ]
  },
  {
   "cell_type": "code",
   "execution_count": null,
   "metadata": {},
   "outputs": [],
   "source": [
    "#df_encoded['icu_yn'].value_counts()"
   ]
  },
  {
   "cell_type": "code",
   "execution_count": null,
   "metadata": {},
   "outputs": [],
   "source": [
    "sns.histplot(data=df_encoded, x=\"icu_yn\", color='r');\n",
    "sns.histplot(data=df, x=\"icu_yn\", color='b');\n",
    "plt.xticks(rotation=90);"
   ]
  },
  {
   "cell_type": "code",
   "execution_count": 42,
   "metadata": {
    "execution": {
     "iopub.execute_input": "2021-10-09T09:56:58.245320Z",
     "iopub.status.busy": "2021-10-09T09:56:58.245010Z",
     "iopub.status.idle": "2021-10-09T09:58:59.566986Z",
     "shell.execute_reply": "2021-10-09T09:58:59.565833Z",
     "shell.execute_reply.started": "2021-10-09T09:56:58.245292Z"
    }
   },
   "outputs": [
    {
     "name": "stdout",
     "output_type": "stream",
     "text": [
      "0.5283623959480532\n",
      "0.526848892348036\n"
     ]
    }
   ],
   "source": [
    "# use RandomForestClassifier to fill the misiing values of 'Race and ethnicity (combined)'\n",
    "rf_race = RandomForestClassifier(n_estimators=10)\n",
    "\n",
    "df_race = pd.get_dummies(df_encoded, columns=[\"icu_yn\", \"death_yn\", \"medcond_yn\", 'hosp_yn'])\n",
    "train_race = df_race.loc[(df_encoded['Race and ethnicity (combined)'].notnull())]  # known hosp values\n",
    "test_race = df_race.loc[(df_encoded['Race and ethnicity (combined)'].isnull())]  # all nan hosp values\n",
    "\n",
    "features = train_race.drop(['Race and ethnicity (combined)'], axis=1)\n",
    "label = train_race['Race and ethnicity (combined)']\n",
    "X_train, X_val, y_train, y_val = train_test_split(features, label, test_size=.2, random_state=42)\n",
    "X_test = test_race.drop(['Race and ethnicity (combined)'], axis=1)\n",
    "\n",
    "rf_race.fit(X_train, y_train)\n",
    "\n",
    "print(rf_race.score(X_train, y_train))\n",
    "print(rf_race.score(X_val, y_val))"
   ]
  },
  {
   "cell_type": "code",
   "execution_count": 43,
   "metadata": {
    "execution": {
     "iopub.execute_input": "2021-10-09T09:59:05.734317Z",
     "iopub.status.busy": "2021-10-09T09:59:05.733967Z",
     "iopub.status.idle": "2021-10-09T10:00:58.045737Z",
     "shell.execute_reply": "2021-10-09T10:00:58.044731Z",
     "shell.execute_reply.started": "2021-10-09T09:59:05.734285Z"
    }
   },
   "outputs": [
    {
     "name": "stdout",
     "output_type": "stream",
     "text": [
      "[[   233      6    481    599     18      1   1117   3675]\n",
      " [    11    779    471   2163     46      0   6186  13567]\n",
      " [    67     67  18134  10215    117      0  20792  61391]\n",
      " [    36    270   3075  32356    101      2  43865  99765]\n",
      " [    25     37   1676   2900    771      0   8645  26674]\n",
      " [     4     42    162    210      2      5    424   2305]\n",
      " [    52    275   2450  11275    106      3 192134 121606]\n",
      " [    91    217   5895  14225    185      1  50967 332997]]\n",
      "                                                      precision    recall  f1-score   support\n",
      "\n",
      "         American Indian/Alaska Native, Non-Hispanic       0.45      0.04      0.07      6130\n",
      "                                 Asian, Non-Hispanic       0.46      0.03      0.06     23223\n",
      "                                 Black, Non-Hispanic       0.56      0.16      0.25    110783\n",
      "                                     Hispanic/Latino       0.44      0.18      0.26    179470\n",
      "                        Multiple/Other, Non-Hispanic       0.57      0.02      0.04     40728\n",
      "Native Hawaiian/Other Pacific Islander, Non-Hispanic       0.42      0.00      0.00      3154\n",
      "                                             Unknown       0.59      0.59      0.59    327901\n",
      "                                 White, Non-Hispanic       0.50      0.82      0.62    404578\n",
      "\n",
      "                                            accuracy                           0.53   1095967\n",
      "                                           macro avg       0.50      0.23      0.24   1095967\n",
      "                                        weighted avg       0.53      0.53      0.48   1095967\n",
      "\n"
     ]
    }
   ],
   "source": [
    "# for Race column\n",
    "print(confusion_matrix(y_val, rf_race.predict(X_val)))\n",
    "print(classification_report(y_val, rf_race.predict(X_val)))"
   ]
  },
  {
   "cell_type": "code",
   "execution_count": 44,
   "metadata": {
    "execution": {
     "iopub.execute_input": "2021-10-09T10:01:11.878144Z",
     "iopub.status.busy": "2021-10-09T10:01:11.877406Z",
     "iopub.status.idle": "2021-10-09T10:01:13.000438Z",
     "shell.execute_reply": "2021-10-09T10:01:12.999371Z",
     "shell.execute_reply.started": "2021-10-09T10:01:11.878092Z"
    }
   },
   "outputs": [],
   "source": [
    "df_encoded.loc[(df_encoded['Race and ethnicity (combined)'].isnull(), 'Race and ethnicity (combined)')] = rf_race.predict(X_test)"
   ]
  },
  {
   "cell_type": "code",
   "execution_count": null,
   "metadata": {},
   "outputs": [],
   "source": [
    "sns.histplot(data=df_encoded, x=\"Race and ethnicity (combined)\", color='r');\n",
    "sns.histplot(data=df, x=\"Race and ethnicity (combined)\", color='b');\n",
    "plt.xticks(rotation=90);"
   ]
  },
  {
   "cell_type": "code",
   "execution_count": 45,
   "metadata": {
    "execution": {
     "iopub.execute_input": "2021-10-09T10:01:22.934602Z",
     "iopub.status.busy": "2021-10-09T10:01:22.934304Z",
     "iopub.status.idle": "2021-10-09T10:03:16.323606Z",
     "shell.execute_reply": "2021-10-09T10:03:16.322536Z",
     "shell.execute_reply.started": "2021-10-09T10:01:22.934571Z"
    }
   },
   "outputs": [
    {
     "name": "stdout",
     "output_type": "stream",
     "text": [
      "0.8738427946819088\n",
      "0.8724348353614707\n"
     ]
    }
   ],
   "source": [
    "# use RandomForestClassifier to fill the misiing values of 'death_yn'\n",
    "rf_death = RandomForestClassifier(n_estimators=10)\n",
    "\n",
    "df_death = pd.get_dummies(df_encoded, columns=[\"medcond_yn\", \"icu_yn\", \"hosp_yn\", 'Race and ethnicity (combined)'])\n",
    "train_death = df_death.loc[(df_encoded['death_yn'].notnull())]  \n",
    "test_death = df_death.loc[(df_encoded['death_yn'].isnull())]  \n",
    "\n",
    "features = train_death.drop('death_yn', axis=1)\n",
    "label = train_death['death_yn']\n",
    "X_train, X_val, y_train, y_val = train_test_split(features, label, test_size=.2, random_state=42)\n",
    "X_test = test_death.drop('death_yn', axis=1)\n",
    "\n",
    "rf_death.fit(X_train, y_train)\n",
    "\n",
    "print(rf_death.score(X_train, y_train))\n",
    "print(rf_death.score(X_val, y_val))"
   ]
  },
  {
   "cell_type": "code",
   "execution_count": 46,
   "metadata": {
    "execution": {
     "iopub.execute_input": "2021-10-09T10:03:22.167307Z",
     "iopub.status.busy": "2021-10-09T10:03:22.167009Z",
     "iopub.status.idle": "2021-10-09T10:05:01.545438Z",
     "shell.execute_reply": "2021-10-09T10:05:01.544383Z",
     "shell.execute_reply.started": "2021-10-09T10:03:22.167278Z"
    }
   },
   "outputs": [
    {
     "name": "stdout",
     "output_type": "stream",
     "text": [
      "[[681869  49862   4683]\n",
      " [ 50785 153027   3983]\n",
      " [ 10746   5055  20775]]\n",
      "              precision    recall  f1-score   support\n",
      "\n",
      "          No       0.92      0.93      0.92    736414\n",
      "     Unknown       0.74      0.74      0.74    207795\n",
      "         Yes       0.71      0.57      0.63     36576\n",
      "\n",
      "    accuracy                           0.87    980785\n",
      "   macro avg       0.79      0.74      0.76    980785\n",
      "weighted avg       0.87      0.87      0.87    980785\n",
      "\n"
     ]
    }
   ],
   "source": [
    "# for death_yn column\n",
    "print(confusion_matrix(y_val, rf_death.predict(X_val)))\n",
    "print(classification_report(y_val, rf_death.predict(X_val)))"
   ]
  },
  {
   "cell_type": "code",
   "execution_count": 47,
   "metadata": {
    "execution": {
     "iopub.execute_input": "2021-10-09T10:05:11.887483Z",
     "iopub.status.busy": "2021-10-09T10:05:11.887190Z",
     "iopub.status.idle": "2021-10-09T10:05:14.018793Z",
     "shell.execute_reply": "2021-10-09T10:05:14.017760Z",
     "shell.execute_reply.started": "2021-10-09T10:05:11.887453Z"
    }
   },
   "outputs": [],
   "source": [
    "df_encoded.loc[(df_encoded['death_yn'].isnull(), 'death_yn')] = rf_death.predict(X_test)"
   ]
  },
  {
   "cell_type": "code",
   "execution_count": 48,
   "metadata": {
    "execution": {
     "iopub.execute_input": "2021-10-09T10:05:16.004375Z",
     "iopub.status.busy": "2021-10-09T10:05:16.004080Z",
     "iopub.status.idle": "2021-10-09T10:05:16.915981Z",
     "shell.execute_reply": "2021-10-09T10:05:16.914831Z",
     "shell.execute_reply.started": "2021-10-09T10:05:16.004346Z"
    }
   },
   "outputs": [
    {
     "data": {
      "text/plain": [
       "No         4341551\n",
       "Unknown    1146195\n",
       "Yes         204702\n",
       "Name: death_yn, dtype: int64"
      ]
     },
     "execution_count": 48,
     "metadata": {},
     "output_type": "execute_result"
    }
   ],
   "source": [
    "df_encoded['death_yn'].value_counts()"
   ]
  },
  {
   "cell_type": "code",
   "execution_count": null,
   "metadata": {},
   "outputs": [],
   "source": [
    "sns.histplot(data=df_encoded, x=\"death_yn\", color='r');\n",
    "sns.histplot(data=df, x=\"death_yn\", color='b');\n",
    "plt.xticks(rotation=90);"
   ]
  },
  {
   "cell_type": "code",
   "execution_count": 49,
   "metadata": {
    "execution": {
     "iopub.execute_input": "2021-10-09T10:05:21.764596Z",
     "iopub.status.busy": "2021-10-09T10:05:21.764282Z",
     "iopub.status.idle": "2021-10-09T10:05:21.782993Z",
     "shell.execute_reply": "2021-10-09T10:05:21.781853Z",
     "shell.execute_reply.started": "2021-10-09T10:05:21.764565Z"
    }
   },
   "outputs": [
    {
     "data": {
      "text/html": [
       "<div>\n",
       "<style scoped>\n",
       "    .dataframe tbody tr th:only-of-type {\n",
       "        vertical-align: middle;\n",
       "    }\n",
       "\n",
       "    .dataframe tbody tr th {\n",
       "        vertical-align: top;\n",
       "    }\n",
       "\n",
       "    .dataframe thead th {\n",
       "        text-align: right;\n",
       "    }\n",
       "</style>\n",
       "<table border=\"1\" class=\"dataframe\">\n",
       "  <thead>\n",
       "    <tr style=\"text-align: right;\">\n",
       "      <th></th>\n",
       "      <th>Race and ethnicity (combined)</th>\n",
       "      <th>hosp_yn</th>\n",
       "      <th>icu_yn</th>\n",
       "      <th>death_yn</th>\n",
       "      <th>medcond_yn</th>\n",
       "      <th>age</th>\n",
       "      <th>current_status_Probable Case</th>\n",
       "      <th>sex_Male</th>\n",
       "      <th>sex_Other</th>\n",
       "      <th>sex_Unknown</th>\n",
       "      <th>symptomatic_yn_Yes</th>\n",
       "      <th>tested_yn_Yes</th>\n",
       "    </tr>\n",
       "    <tr>\n",
       "      <th>cdc_report_dt</th>\n",
       "      <th></th>\n",
       "      <th></th>\n",
       "      <th></th>\n",
       "      <th></th>\n",
       "      <th></th>\n",
       "      <th></th>\n",
       "      <th></th>\n",
       "      <th></th>\n",
       "      <th></th>\n",
       "      <th></th>\n",
       "      <th></th>\n",
       "      <th></th>\n",
       "    </tr>\n",
       "  </thead>\n",
       "  <tbody>\n",
       "    <tr>\n",
       "      <th>2020-11-10</th>\n",
       "      <td>Black, Non-Hispanic</td>\n",
       "      <td>No</td>\n",
       "      <td>Unknown</td>\n",
       "      <td>No</td>\n",
       "      <td>No</td>\n",
       "      <td>1</td>\n",
       "      <td>0</td>\n",
       "      <td>1</td>\n",
       "      <td>0</td>\n",
       "      <td>0</td>\n",
       "      <td>0</td>\n",
       "      <td>1</td>\n",
       "    </tr>\n",
       "    <tr>\n",
       "      <th>2020-11-14</th>\n",
       "      <td>Black, Non-Hispanic</td>\n",
       "      <td>No</td>\n",
       "      <td>No</td>\n",
       "      <td>No</td>\n",
       "      <td>No</td>\n",
       "      <td>1</td>\n",
       "      <td>0</td>\n",
       "      <td>1</td>\n",
       "      <td>0</td>\n",
       "      <td>0</td>\n",
       "      <td>1</td>\n",
       "      <td>1</td>\n",
       "    </tr>\n",
       "    <tr>\n",
       "      <th>2020-11-19</th>\n",
       "      <td>Black, Non-Hispanic</td>\n",
       "      <td>No</td>\n",
       "      <td>No</td>\n",
       "      <td>No</td>\n",
       "      <td>No</td>\n",
       "      <td>1</td>\n",
       "      <td>0</td>\n",
       "      <td>1</td>\n",
       "      <td>0</td>\n",
       "      <td>0</td>\n",
       "      <td>1</td>\n",
       "      <td>1</td>\n",
       "    </tr>\n",
       "    <tr>\n",
       "      <th>2020-11-14</th>\n",
       "      <td>Black, Non-Hispanic</td>\n",
       "      <td>No</td>\n",
       "      <td>Unknown</td>\n",
       "      <td>No</td>\n",
       "      <td>No</td>\n",
       "      <td>1</td>\n",
       "      <td>0</td>\n",
       "      <td>1</td>\n",
       "      <td>0</td>\n",
       "      <td>0</td>\n",
       "      <td>0</td>\n",
       "      <td>1</td>\n",
       "    </tr>\n",
       "    <tr>\n",
       "      <th>2020-11-13</th>\n",
       "      <td>Black, Non-Hispanic</td>\n",
       "      <td>No</td>\n",
       "      <td>No</td>\n",
       "      <td>No</td>\n",
       "      <td>Yes</td>\n",
       "      <td>1</td>\n",
       "      <td>0</td>\n",
       "      <td>1</td>\n",
       "      <td>0</td>\n",
       "      <td>0</td>\n",
       "      <td>1</td>\n",
       "      <td>1</td>\n",
       "    </tr>\n",
       "  </tbody>\n",
       "</table>\n",
       "</div>"
      ],
      "text/plain": [
       "              Race and ethnicity (combined) hosp_yn   icu_yn death_yn  \\\n",
       "cdc_report_dt                                                           \n",
       "2020-11-10              Black, Non-Hispanic      No  Unknown       No   \n",
       "2020-11-14              Black, Non-Hispanic      No       No       No   \n",
       "2020-11-19              Black, Non-Hispanic      No       No       No   \n",
       "2020-11-14              Black, Non-Hispanic      No  Unknown       No   \n",
       "2020-11-13              Black, Non-Hispanic      No       No       No   \n",
       "\n",
       "              medcond_yn  age  current_status_Probable Case  sex_Male  \\\n",
       "cdc_report_dt                                                           \n",
       "2020-11-10            No    1                             0         1   \n",
       "2020-11-14            No    1                             0         1   \n",
       "2020-11-19            No    1                             0         1   \n",
       "2020-11-14            No    1                             0         1   \n",
       "2020-11-13           Yes    1                             0         1   \n",
       "\n",
       "               sex_Other  sex_Unknown  symptomatic_yn_Yes  tested_yn_Yes  \n",
       "cdc_report_dt                                                             \n",
       "2020-11-10             0            0                   0              1  \n",
       "2020-11-14             0            0                   1              1  \n",
       "2020-11-19             0            0                   1              1  \n",
       "2020-11-14             0            0                   0              1  \n",
       "2020-11-13             0            0                   1              1  "
      ]
     },
     "execution_count": 49,
     "metadata": {},
     "output_type": "execute_result"
    }
   ],
   "source": [
    "df_encoded.head()"
   ]
  },
  {
   "cell_type": "code",
   "execution_count": 50,
   "metadata": {
    "execution": {
     "iopub.execute_input": "2021-10-09T10:05:27.274770Z",
     "iopub.status.busy": "2021-10-09T10:05:27.273645Z",
     "iopub.status.idle": "2021-10-09T10:06:29.746040Z",
     "shell.execute_reply": "2021-10-09T10:06:29.745276Z",
     "shell.execute_reply.started": "2021-10-09T10:05:27.274731Z"
    }
   },
   "outputs": [],
   "source": [
    "df_encoded.to_csv('final_data.csv', index=False)"
   ]
  },
  {
   "cell_type": "markdown",
   "metadata": {},
   "source": [
    "## Classification Models"
   ]
  },
  {
   "cell_type": "code",
   "execution_count": 51,
   "metadata": {
    "execution": {
     "iopub.execute_input": "2021-10-09T10:08:20.166358Z",
     "iopub.status.busy": "2021-10-09T10:08:20.165371Z",
     "iopub.status.idle": "2021-10-09T10:08:20.183747Z",
     "shell.execute_reply": "2021-10-09T10:08:20.183092Z",
     "shell.execute_reply.started": "2021-10-09T10:08:20.166309Z"
    }
   },
   "outputs": [
    {
     "data": {
      "text/html": [
       "<div>\n",
       "<style scoped>\n",
       "    .dataframe tbody tr th:only-of-type {\n",
       "        vertical-align: middle;\n",
       "    }\n",
       "\n",
       "    .dataframe tbody tr th {\n",
       "        vertical-align: top;\n",
       "    }\n",
       "\n",
       "    .dataframe thead th {\n",
       "        text-align: right;\n",
       "    }\n",
       "</style>\n",
       "<table border=\"1\" class=\"dataframe\">\n",
       "  <thead>\n",
       "    <tr style=\"text-align: right;\">\n",
       "      <th></th>\n",
       "      <th>Race and ethnicity (combined)</th>\n",
       "      <th>hosp_yn</th>\n",
       "      <th>icu_yn</th>\n",
       "      <th>death_yn</th>\n",
       "      <th>medcond_yn</th>\n",
       "      <th>age</th>\n",
       "      <th>current_status_Probable Case</th>\n",
       "      <th>sex_Male</th>\n",
       "      <th>sex_Other</th>\n",
       "      <th>sex_Unknown</th>\n",
       "      <th>symptomatic_yn_Yes</th>\n",
       "      <th>tested_yn_Yes</th>\n",
       "    </tr>\n",
       "    <tr>\n",
       "      <th>cdc_report_dt</th>\n",
       "      <th></th>\n",
       "      <th></th>\n",
       "      <th></th>\n",
       "      <th></th>\n",
       "      <th></th>\n",
       "      <th></th>\n",
       "      <th></th>\n",
       "      <th></th>\n",
       "      <th></th>\n",
       "      <th></th>\n",
       "      <th></th>\n",
       "      <th></th>\n",
       "    </tr>\n",
       "  </thead>\n",
       "  <tbody>\n",
       "    <tr>\n",
       "      <th>2020-11-10</th>\n",
       "      <td>Black, Non-Hispanic</td>\n",
       "      <td>No</td>\n",
       "      <td>Unknown</td>\n",
       "      <td>No</td>\n",
       "      <td>No</td>\n",
       "      <td>1</td>\n",
       "      <td>0</td>\n",
       "      <td>1</td>\n",
       "      <td>0</td>\n",
       "      <td>0</td>\n",
       "      <td>0</td>\n",
       "      <td>1</td>\n",
       "    </tr>\n",
       "    <tr>\n",
       "      <th>2020-11-14</th>\n",
       "      <td>Black, Non-Hispanic</td>\n",
       "      <td>No</td>\n",
       "      <td>No</td>\n",
       "      <td>No</td>\n",
       "      <td>No</td>\n",
       "      <td>1</td>\n",
       "      <td>0</td>\n",
       "      <td>1</td>\n",
       "      <td>0</td>\n",
       "      <td>0</td>\n",
       "      <td>1</td>\n",
       "      <td>1</td>\n",
       "    </tr>\n",
       "    <tr>\n",
       "      <th>2020-11-19</th>\n",
       "      <td>Black, Non-Hispanic</td>\n",
       "      <td>No</td>\n",
       "      <td>No</td>\n",
       "      <td>No</td>\n",
       "      <td>No</td>\n",
       "      <td>1</td>\n",
       "      <td>0</td>\n",
       "      <td>1</td>\n",
       "      <td>0</td>\n",
       "      <td>0</td>\n",
       "      <td>1</td>\n",
       "      <td>1</td>\n",
       "    </tr>\n",
       "    <tr>\n",
       "      <th>2020-11-14</th>\n",
       "      <td>Black, Non-Hispanic</td>\n",
       "      <td>No</td>\n",
       "      <td>Unknown</td>\n",
       "      <td>No</td>\n",
       "      <td>No</td>\n",
       "      <td>1</td>\n",
       "      <td>0</td>\n",
       "      <td>1</td>\n",
       "      <td>0</td>\n",
       "      <td>0</td>\n",
       "      <td>0</td>\n",
       "      <td>1</td>\n",
       "    </tr>\n",
       "    <tr>\n",
       "      <th>2020-11-13</th>\n",
       "      <td>Black, Non-Hispanic</td>\n",
       "      <td>No</td>\n",
       "      <td>No</td>\n",
       "      <td>No</td>\n",
       "      <td>Yes</td>\n",
       "      <td>1</td>\n",
       "      <td>0</td>\n",
       "      <td>1</td>\n",
       "      <td>0</td>\n",
       "      <td>0</td>\n",
       "      <td>1</td>\n",
       "      <td>1</td>\n",
       "    </tr>\n",
       "  </tbody>\n",
       "</table>\n",
       "</div>"
      ],
      "text/plain": [
       "              Race and ethnicity (combined) hosp_yn   icu_yn death_yn  \\\n",
       "cdc_report_dt                                                           \n",
       "2020-11-10              Black, Non-Hispanic      No  Unknown       No   \n",
       "2020-11-14              Black, Non-Hispanic      No       No       No   \n",
       "2020-11-19              Black, Non-Hispanic      No       No       No   \n",
       "2020-11-14              Black, Non-Hispanic      No  Unknown       No   \n",
       "2020-11-13              Black, Non-Hispanic      No       No       No   \n",
       "\n",
       "              medcond_yn  age  current_status_Probable Case  sex_Male  \\\n",
       "cdc_report_dt                                                           \n",
       "2020-11-10            No    1                             0         1   \n",
       "2020-11-14            No    1                             0         1   \n",
       "2020-11-19            No    1                             0         1   \n",
       "2020-11-14            No    1                             0         1   \n",
       "2020-11-13           Yes    1                             0         1   \n",
       "\n",
       "               sex_Other  sex_Unknown  symptomatic_yn_Yes  tested_yn_Yes  \n",
       "cdc_report_dt                                                             \n",
       "2020-11-10             0            0                   0              1  \n",
       "2020-11-14             0            0                   1              1  \n",
       "2020-11-19             0            0                   1              1  \n",
       "2020-11-14             0            0                   0              1  \n",
       "2020-11-13             0            0                   1              1  "
      ]
     },
     "execution_count": 51,
     "metadata": {},
     "output_type": "execute_result"
    }
   ],
   "source": [
    "# #df_final = pd.read_csv('final_data.csv')\n",
    "df_final = df_encoded\n",
    "df_final.head()"
   ]
  },
  {
   "cell_type": "code",
   "execution_count": 52,
   "metadata": {
    "execution": {
     "iopub.execute_input": "2021-10-09T10:08:23.820979Z",
     "iopub.status.busy": "2021-10-09T10:08:23.820545Z",
     "iopub.status.idle": "2021-10-09T10:08:26.947689Z",
     "shell.execute_reply": "2021-10-09T10:08:26.946791Z",
     "shell.execute_reply.started": "2021-10-09T10:08:23.820940Z"
    }
   },
   "outputs": [
    {
     "data": {
      "text/plain": [
       "Race and ethnicity (combined)    0\n",
       "hosp_yn                          0\n",
       "icu_yn                           0\n",
       "death_yn                         0\n",
       "medcond_yn                       0\n",
       "age                              0\n",
       "current_status_Probable Case     0\n",
       "sex_Male                         0\n",
       "sex_Other                        0\n",
       "sex_Unknown                      0\n",
       "symptomatic_yn_Yes               0\n",
       "tested_yn_Yes                    0\n",
       "dtype: int64"
      ]
     },
     "execution_count": 52,
     "metadata": {},
     "output_type": "execute_result"
    }
   ],
   "source": [
    "df_final.isnull().sum()"
   ]
  },
  {
   "cell_type": "code",
   "execution_count": 53,
   "metadata": {
    "execution": {
     "iopub.execute_input": "2021-10-09T10:08:32.858318Z",
     "iopub.status.busy": "2021-10-09T10:08:32.857835Z",
     "iopub.status.idle": "2021-10-09T10:08:36.280079Z",
     "shell.execute_reply": "2021-10-09T10:08:36.279180Z",
     "shell.execute_reply.started": "2021-10-09T10:08:32.858271Z"
    }
   },
   "outputs": [
    {
     "data": {
      "text/html": [
       "<div>\n",
       "<style scoped>\n",
       "    .dataframe tbody tr th:only-of-type {\n",
       "        vertical-align: middle;\n",
       "    }\n",
       "\n",
       "    .dataframe tbody tr th {\n",
       "        vertical-align: top;\n",
       "    }\n",
       "\n",
       "    .dataframe thead th {\n",
       "        text-align: right;\n",
       "    }\n",
       "</style>\n",
       "<table border=\"1\" class=\"dataframe\">\n",
       "  <thead>\n",
       "    <tr style=\"text-align: right;\">\n",
       "      <th></th>\n",
       "      <th>death_yn</th>\n",
       "      <th>age</th>\n",
       "      <th>current_status_Probable Case</th>\n",
       "      <th>sex_Male</th>\n",
       "      <th>sex_Other</th>\n",
       "      <th>sex_Unknown</th>\n",
       "      <th>symptomatic_yn_Yes</th>\n",
       "      <th>tested_yn_Yes</th>\n",
       "      <th>hosp_yn_Unknown</th>\n",
       "      <th>hosp_yn_Yes</th>\n",
       "      <th>...</th>\n",
       "      <th>icu_yn_Yes</th>\n",
       "      <th>medcond_yn_Unknown</th>\n",
       "      <th>medcond_yn_Yes</th>\n",
       "      <th>Race and ethnicity (combined)_Asian, Non-Hispanic</th>\n",
       "      <th>Race and ethnicity (combined)_Black, Non-Hispanic</th>\n",
       "      <th>Race and ethnicity (combined)_Hispanic/Latino</th>\n",
       "      <th>Race and ethnicity (combined)_Multiple/Other, Non-Hispanic</th>\n",
       "      <th>Race and ethnicity (combined)_Native Hawaiian/Other Pacific Islander, Non-Hispanic</th>\n",
       "      <th>Race and ethnicity (combined)_Unknown</th>\n",
       "      <th>Race and ethnicity (combined)_White, Non-Hispanic</th>\n",
       "    </tr>\n",
       "    <tr>\n",
       "      <th>cdc_report_dt</th>\n",
       "      <th></th>\n",
       "      <th></th>\n",
       "      <th></th>\n",
       "      <th></th>\n",
       "      <th></th>\n",
       "      <th></th>\n",
       "      <th></th>\n",
       "      <th></th>\n",
       "      <th></th>\n",
       "      <th></th>\n",
       "      <th></th>\n",
       "      <th></th>\n",
       "      <th></th>\n",
       "      <th></th>\n",
       "      <th></th>\n",
       "      <th></th>\n",
       "      <th></th>\n",
       "      <th></th>\n",
       "      <th></th>\n",
       "      <th></th>\n",
       "      <th></th>\n",
       "    </tr>\n",
       "  </thead>\n",
       "  <tbody>\n",
       "    <tr>\n",
       "      <th>2020-11-10</th>\n",
       "      <td>No</td>\n",
       "      <td>1</td>\n",
       "      <td>0</td>\n",
       "      <td>1</td>\n",
       "      <td>0</td>\n",
       "      <td>0</td>\n",
       "      <td>0</td>\n",
       "      <td>1</td>\n",
       "      <td>0</td>\n",
       "      <td>0</td>\n",
       "      <td>...</td>\n",
       "      <td>0</td>\n",
       "      <td>0</td>\n",
       "      <td>0</td>\n",
       "      <td>0</td>\n",
       "      <td>1</td>\n",
       "      <td>0</td>\n",
       "      <td>0</td>\n",
       "      <td>0</td>\n",
       "      <td>0</td>\n",
       "      <td>0</td>\n",
       "    </tr>\n",
       "    <tr>\n",
       "      <th>2020-11-14</th>\n",
       "      <td>No</td>\n",
       "      <td>1</td>\n",
       "      <td>0</td>\n",
       "      <td>1</td>\n",
       "      <td>0</td>\n",
       "      <td>0</td>\n",
       "      <td>1</td>\n",
       "      <td>1</td>\n",
       "      <td>0</td>\n",
       "      <td>0</td>\n",
       "      <td>...</td>\n",
       "      <td>0</td>\n",
       "      <td>0</td>\n",
       "      <td>0</td>\n",
       "      <td>0</td>\n",
       "      <td>1</td>\n",
       "      <td>0</td>\n",
       "      <td>0</td>\n",
       "      <td>0</td>\n",
       "      <td>0</td>\n",
       "      <td>0</td>\n",
       "    </tr>\n",
       "    <tr>\n",
       "      <th>2020-11-19</th>\n",
       "      <td>No</td>\n",
       "      <td>1</td>\n",
       "      <td>0</td>\n",
       "      <td>1</td>\n",
       "      <td>0</td>\n",
       "      <td>0</td>\n",
       "      <td>1</td>\n",
       "      <td>1</td>\n",
       "      <td>0</td>\n",
       "      <td>0</td>\n",
       "      <td>...</td>\n",
       "      <td>0</td>\n",
       "      <td>0</td>\n",
       "      <td>0</td>\n",
       "      <td>0</td>\n",
       "      <td>1</td>\n",
       "      <td>0</td>\n",
       "      <td>0</td>\n",
       "      <td>0</td>\n",
       "      <td>0</td>\n",
       "      <td>0</td>\n",
       "    </tr>\n",
       "    <tr>\n",
       "      <th>2020-11-14</th>\n",
       "      <td>No</td>\n",
       "      <td>1</td>\n",
       "      <td>0</td>\n",
       "      <td>1</td>\n",
       "      <td>0</td>\n",
       "      <td>0</td>\n",
       "      <td>0</td>\n",
       "      <td>1</td>\n",
       "      <td>0</td>\n",
       "      <td>0</td>\n",
       "      <td>...</td>\n",
       "      <td>0</td>\n",
       "      <td>0</td>\n",
       "      <td>0</td>\n",
       "      <td>0</td>\n",
       "      <td>1</td>\n",
       "      <td>0</td>\n",
       "      <td>0</td>\n",
       "      <td>0</td>\n",
       "      <td>0</td>\n",
       "      <td>0</td>\n",
       "    </tr>\n",
       "    <tr>\n",
       "      <th>2020-11-13</th>\n",
       "      <td>No</td>\n",
       "      <td>1</td>\n",
       "      <td>0</td>\n",
       "      <td>1</td>\n",
       "      <td>0</td>\n",
       "      <td>0</td>\n",
       "      <td>1</td>\n",
       "      <td>1</td>\n",
       "      <td>0</td>\n",
       "      <td>0</td>\n",
       "      <td>...</td>\n",
       "      <td>0</td>\n",
       "      <td>0</td>\n",
       "      <td>1</td>\n",
       "      <td>0</td>\n",
       "      <td>1</td>\n",
       "      <td>0</td>\n",
       "      <td>0</td>\n",
       "      <td>0</td>\n",
       "      <td>0</td>\n",
       "      <td>0</td>\n",
       "    </tr>\n",
       "  </tbody>\n",
       "</table>\n",
       "<p>5 rows × 21 columns</p>\n",
       "</div>"
      ],
      "text/plain": [
       "              death_yn  age  current_status_Probable Case  sex_Male  \\\n",
       "cdc_report_dt                                                         \n",
       "2020-11-10          No    1                             0         1   \n",
       "2020-11-14          No    1                             0         1   \n",
       "2020-11-19          No    1                             0         1   \n",
       "2020-11-14          No    1                             0         1   \n",
       "2020-11-13          No    1                             0         1   \n",
       "\n",
       "               sex_Other  sex_Unknown  symptomatic_yn_Yes  tested_yn_Yes  \\\n",
       "cdc_report_dt                                                              \n",
       "2020-11-10             0            0                   0              1   \n",
       "2020-11-14             0            0                   1              1   \n",
       "2020-11-19             0            0                   1              1   \n",
       "2020-11-14             0            0                   0              1   \n",
       "2020-11-13             0            0                   1              1   \n",
       "\n",
       "               hosp_yn_Unknown  hosp_yn_Yes  ...  icu_yn_Yes  \\\n",
       "cdc_report_dt                                ...               \n",
       "2020-11-10                   0            0  ...           0   \n",
       "2020-11-14                   0            0  ...           0   \n",
       "2020-11-19                   0            0  ...           0   \n",
       "2020-11-14                   0            0  ...           0   \n",
       "2020-11-13                   0            0  ...           0   \n",
       "\n",
       "               medcond_yn_Unknown  medcond_yn_Yes  \\\n",
       "cdc_report_dt                                       \n",
       "2020-11-10                      0               0   \n",
       "2020-11-14                      0               0   \n",
       "2020-11-19                      0               0   \n",
       "2020-11-14                      0               0   \n",
       "2020-11-13                      0               1   \n",
       "\n",
       "               Race and ethnicity (combined)_Asian, Non-Hispanic  \\\n",
       "cdc_report_dt                                                      \n",
       "2020-11-10                                                     0   \n",
       "2020-11-14                                                     0   \n",
       "2020-11-19                                                     0   \n",
       "2020-11-14                                                     0   \n",
       "2020-11-13                                                     0   \n",
       "\n",
       "               Race and ethnicity (combined)_Black, Non-Hispanic  \\\n",
       "cdc_report_dt                                                      \n",
       "2020-11-10                                                     1   \n",
       "2020-11-14                                                     1   \n",
       "2020-11-19                                                     1   \n",
       "2020-11-14                                                     1   \n",
       "2020-11-13                                                     1   \n",
       "\n",
       "               Race and ethnicity (combined)_Hispanic/Latino  \\\n",
       "cdc_report_dt                                                  \n",
       "2020-11-10                                                 0   \n",
       "2020-11-14                                                 0   \n",
       "2020-11-19                                                 0   \n",
       "2020-11-14                                                 0   \n",
       "2020-11-13                                                 0   \n",
       "\n",
       "               Race and ethnicity (combined)_Multiple/Other, Non-Hispanic  \\\n",
       "cdc_report_dt                                                               \n",
       "2020-11-10                                                     0            \n",
       "2020-11-14                                                     0            \n",
       "2020-11-19                                                     0            \n",
       "2020-11-14                                                     0            \n",
       "2020-11-13                                                     0            \n",
       "\n",
       "               Race and ethnicity (combined)_Native Hawaiian/Other Pacific Islander, Non-Hispanic  \\\n",
       "cdc_report_dt                                                                                       \n",
       "2020-11-10                                                     0                                    \n",
       "2020-11-14                                                     0                                    \n",
       "2020-11-19                                                     0                                    \n",
       "2020-11-14                                                     0                                    \n",
       "2020-11-13                                                     0                                    \n",
       "\n",
       "               Race and ethnicity (combined)_Unknown  \\\n",
       "cdc_report_dt                                          \n",
       "2020-11-10                                         0   \n",
       "2020-11-14                                         0   \n",
       "2020-11-19                                         0   \n",
       "2020-11-14                                         0   \n",
       "2020-11-13                                         0   \n",
       "\n",
       "               Race and ethnicity (combined)_White, Non-Hispanic  \n",
       "cdc_report_dt                                                     \n",
       "2020-11-10                                                     0  \n",
       "2020-11-14                                                     0  \n",
       "2020-11-19                                                     0  \n",
       "2020-11-14                                                     0  \n",
       "2020-11-13                                                     0  \n",
       "\n",
       "[5 rows x 21 columns]"
      ]
     },
     "execution_count": 53,
     "metadata": {},
     "output_type": "execute_result"
    }
   ],
   "source": [
    "df_final = pd.get_dummies(df_final, columns=['hosp_yn','icu_yn','medcond_yn', 'Race and ethnicity (combined)'], drop_first=True)\n",
    "df_final.head()"
   ]
  },
  {
   "cell_type": "code",
   "execution_count": 54,
   "metadata": {
    "execution": {
     "iopub.execute_input": "2021-10-09T10:08:56.309995Z",
     "iopub.status.busy": "2021-10-09T10:08:56.308928Z",
     "iopub.status.idle": "2021-10-09T10:08:56.316109Z",
     "shell.execute_reply": "2021-10-09T10:08:56.315192Z",
     "shell.execute_reply.started": "2021-10-09T10:08:56.309949Z"
    }
   },
   "outputs": [
    {
     "data": {
      "text/plain": [
       "(5692448, 21)"
      ]
     },
     "execution_count": 54,
     "metadata": {},
     "output_type": "execute_result"
    }
   ],
   "source": [
    "df_final.shape"
   ]
  },
  {
   "cell_type": "code",
   "execution_count": 55,
   "metadata": {
    "execution": {
     "iopub.execute_input": "2021-10-09T10:09:09.753878Z",
     "iopub.status.busy": "2021-10-09T10:09:09.753018Z",
     "iopub.status.idle": "2021-10-09T10:09:13.060068Z",
     "shell.execute_reply": "2021-10-09T10:09:13.059042Z",
     "shell.execute_reply.started": "2021-10-09T10:09:09.753832Z"
    }
   },
   "outputs": [],
   "source": [
    "features = df_final.drop('death_yn', axis=1)\n",
    "label = df_final['death_yn']\n",
    "X_train, X_test, y_train, y_test = train_test_split(features, label, test_size=0.2, random_state=42)"
   ]
  },
  {
   "cell_type": "code",
   "execution_count": 64,
   "metadata": {
    "execution": {
     "iopub.execute_input": "2021-10-09T10:22:17.703767Z",
     "iopub.status.busy": "2021-10-09T10:22:17.703437Z",
     "iopub.status.idle": "2021-10-09T10:22:17.708967Z",
     "shell.execute_reply": "2021-10-09T10:22:17.708022Z",
     "shell.execute_reply.started": "2021-10-09T10:22:17.703736Z"
    }
   },
   "outputs": [],
   "source": [
    "models = []"
   ]
  },
  {
   "cell_type": "code",
   "execution_count": 58,
   "metadata": {
    "execution": {
     "iopub.execute_input": "2021-10-09T10:15:01.347708Z",
     "iopub.status.busy": "2021-10-09T10:15:01.346760Z",
     "iopub.status.idle": "2021-10-09T10:15:01.353177Z",
     "shell.execute_reply": "2021-10-09T10:15:01.351918Z",
     "shell.execute_reply.started": "2021-10-09T10:15:01.347646Z"
    }
   },
   "outputs": [],
   "source": [
    "\n",
    "def evaluate_models(y_true, y_pred):\n",
    "    cm = confusion_matrix(y_true, y_pred)\n",
    "    print(classification_report(y_true, y_pred))\n",
    "    acc = accuracy_score(y_true, y_pred)\n",
    "    return cm, acc\n",
    "    "
   ]
  },
  {
   "cell_type": "code",
   "execution_count": 59,
   "metadata": {
    "execution": {
     "iopub.execute_input": "2021-10-09T10:15:03.346765Z",
     "iopub.status.busy": "2021-10-09T10:15:03.346424Z",
     "iopub.status.idle": "2021-10-09T10:15:03.353204Z",
     "shell.execute_reply": "2021-10-09T10:15:03.352171Z",
     "shell.execute_reply.started": "2021-10-09T10:15:03.346730Z"
    }
   },
   "outputs": [],
   "source": [
    "def plot_cm(cm, title=''):\n",
    "    sns.heatmap(cm, annot=True, fmt='d', xticklabels=['No', 'Unknown', 'Yes'], yticklabels=['No', 'Unknown', 'Yes'], cmap=plt.cm.Blues)\n",
    "    plt.title(title)\n",
    "    plt.show()"
   ]
  },
  {
   "cell_type": "markdown",
   "metadata": {},
   "source": [
    "**Random Forest Classifier**"
   ]
  },
  {
   "cell_type": "code",
   "execution_count": 60,
   "metadata": {
    "execution": {
     "iopub.execute_input": "2021-10-09T10:15:43.264988Z",
     "iopub.status.busy": "2021-10-09T10:15:43.264684Z",
     "iopub.status.idle": "2021-10-09T10:17:50.912871Z",
     "shell.execute_reply": "2021-10-09T10:17:50.911761Z",
     "shell.execute_reply.started": "2021-10-09T10:15:43.264959Z"
    }
   },
   "outputs": [
    {
     "name": "stdout",
     "output_type": "stream",
     "text": [
      "0.891400842959026\n",
      "0.8897732962081354\n"
     ]
    }
   ],
   "source": [
    "rf = RandomForestClassifier(n_estimators=10)\n",
    "rf.fit(X_train, y_train)\n",
    "print(rf.score(X_train, y_train))\n",
    "print(rf.score(X_test, y_test))"
   ]
  },
  {
   "cell_type": "code",
   "execution_count": 65,
   "metadata": {
    "execution": {
     "iopub.execute_input": "2021-10-09T10:22:25.809928Z",
     "iopub.status.busy": "2021-10-09T10:22:25.809634Z",
     "iopub.status.idle": "2021-10-09T10:24:20.922646Z",
     "shell.execute_reply": "2021-10-09T10:24:20.921788Z",
     "shell.execute_reply.started": "2021-10-09T10:22:25.809896Z"
    }
   },
   "outputs": [
    {
     "name": "stdout",
     "output_type": "stream",
     "text": [
      "              precision    recall  f1-score   support\n",
      "\n",
      "          No       0.93      0.94      0.93    867870\n",
      "     Unknown       0.76      0.76      0.76    229510\n",
      "         Yes       0.75      0.61      0.67     41110\n",
      "\n",
      "    accuracy                           0.89   1138490\n",
      "   macro avg       0.81      0.77      0.79   1138490\n",
      "weighted avg       0.89      0.89      0.89   1138490\n",
      "\n"
     ]
    },
    {
     "data": {
      "image/png": "[encoded data removed]",
      "text/plain": [
       "<Figure size 432x288 with 2 Axes>"
      ]
     },
     "metadata": {
      "needs_background": "light"
     },
     "output_type": "display_data"
    }
   ],
   "source": [
    "y_pred_rf = rf.predict(X_test)\n",
    "cm_rf, acc_rf = evaluate_models(y_test, y_pred_rf)\n",
    "plot_cm(cm_rf, 'Random Forest Confusion Matrix ')\n",
    "models.append(['Random Forest', acc_rf])"
   ]
  },
  {
   "cell_type": "markdown",
   "metadata": {},
   "source": [
    "**AdaBoost Classifier**"
   ]
  },
  {
   "cell_type": "code",
   "execution_count": 66,
   "metadata": {
    "execution": {
     "iopub.execute_input": "2021-10-09T10:25:17.486607Z",
     "iopub.status.busy": "2021-10-09T10:25:17.485969Z",
     "iopub.status.idle": "2021-10-09T10:45:47.193521Z",
     "shell.execute_reply": "2021-10-09T10:45:47.192433Z",
     "shell.execute_reply.started": "2021-10-09T10:25:17.486561Z"
    }
   },
   "outputs": [],
   "source": [
    "from sklearn.ensemble import AdaBoostClassifier\n",
    "clf = AdaBoostClassifier()\n",
    "clf.fit(X_train, y_train)\n",
    "y_pred_ada = clf.predict(X_test)"
   ]
  },
  {
   "cell_type": "code",
   "execution_count": 67,
   "metadata": {
    "execution": {
     "iopub.execute_input": "2021-10-09T10:45:56.219919Z",
     "iopub.status.busy": "2021-10-09T10:45:56.219488Z",
     "iopub.status.idle": "2021-10-09T10:47:48.034549Z",
     "shell.execute_reply": "2021-10-09T10:47:48.033411Z",
     "shell.execute_reply.started": "2021-10-09T10:45:56.219884Z"
    }
   },
   "outputs": [
    {
     "name": "stdout",
     "output_type": "stream",
     "text": [
      "              precision    recall  f1-score   support\n",
      "\n",
      "          No       0.89      0.91      0.90    867870\n",
      "     Unknown       0.66      0.64      0.65    229510\n",
      "         Yes       0.62      0.55      0.58     41110\n",
      "\n",
      "    accuracy                           0.84   1138490\n",
      "   macro avg       0.72      0.70      0.71   1138490\n",
      "weighted avg       0.84      0.84      0.84   1138490\n",
      "\n"
     ]
    },
    {
     "data": {
      "image/png": "[encoded data removed]",
      "text/plain": [
       "<Figure size 432x288 with 2 Axes>"
      ]
     },
     "metadata": {
      "needs_background": "light"
     },
     "output_type": "display_data"
    }
   ],
   "source": [
    "cm_ada, acc_ada = evaluate_models(y_test, y_pred_ada)\n",
    "plot_cm(cm_ada, 'AdaBoost Classifier Confusion Matrix ')\n",
    "models.append(['AdaBoost', acc_ada])"
   ]
  },
  {
   "cell_type": "markdown",
   "metadata": {},
   "source": [
    "**Decision Tree**"
   ]
  },
  {
   "cell_type": "code",
   "execution_count": 68,
   "metadata": {
    "execution": {
     "iopub.execute_input": "2021-10-09T10:47:54.629602Z",
     "iopub.status.busy": "2021-10-09T10:47:54.628735Z",
     "iopub.status.idle": "2021-10-09T10:48:35.462913Z",
     "shell.execute_reply": "2021-10-09T10:48:35.461877Z",
     "shell.execute_reply.started": "2021-10-09T10:47:54.629553Z"
    }
   },
   "outputs": [],
   "source": [
    "from sklearn.tree import DecisionTreeClassifier\n",
    "dtc = DecisionTreeClassifier()\n",
    "dtc.fit(X_train, y_train)\n",
    "y_pred_dtc = dtc.predict(X_test)"
   ]
  },
  {
   "cell_type": "code",
   "execution_count": 69,
   "metadata": {
    "execution": {
     "iopub.execute_input": "2021-10-09T10:48:55.962024Z",
     "iopub.status.busy": "2021-10-09T10:48:55.961309Z",
     "iopub.status.idle": "2021-10-09T10:50:47.310311Z",
     "shell.execute_reply": "2021-10-09T10:50:47.309461Z",
     "shell.execute_reply.started": "2021-10-09T10:48:55.961980Z"
    }
   },
   "outputs": [
    {
     "name": "stdout",
     "output_type": "stream",
     "text": [
      "              precision    recall  f1-score   support\n",
      "\n",
      "          No       0.93      0.94      0.93    867870\n",
      "     Unknown       0.76      0.76      0.76    229510\n",
      "         Yes       0.75      0.61      0.67     41110\n",
      "\n",
      "    accuracy                           0.89   1138490\n",
      "   macro avg       0.81      0.77      0.79   1138490\n",
      "weighted avg       0.89      0.89      0.89   1138490\n",
      "\n"
     ]
    },
    {
     "data": {
      "image/png": "[encoded data removed]",
      "text/plain": [
       "<Figure size 432x288 with 2 Axes>"
      ]
     },
     "metadata": {
      "needs_background": "light"
     },
     "output_type": "display_data"
    }
   ],
   "source": [
    "cm_dt, acc_dt = evaluate_models(y_test, y_pred_dtc)\n",
    "plot_cm(cm_dt, 'Decision Tree Confusion Matrix')\n",
    "models.append(['Decision Tree', acc_dt])"
   ]
  },
  {
   "cell_type": "markdown",
   "metadata": {},
   "source": [
    "**Neural Network**"
   ]
  },
  {
   "cell_type": "code",
   "execution_count": 74,
   "metadata": {
    "execution": {
     "iopub.execute_input": "2021-10-09T10:55:53.774262Z",
     "iopub.status.busy": "2021-10-09T10:55:53.773821Z",
     "iopub.status.idle": "2021-10-09T10:55:53.779669Z",
     "shell.execute_reply": "2021-10-09T10:55:53.778552Z",
     "shell.execute_reply.started": "2021-10-09T10:55:53.774227Z"
    }
   },
   "outputs": [],
   "source": [
    "from tensorflow.keras.models import Sequential\n",
    "from tensorflow.keras.layers import Dense, Dropout\n",
    "# from tensorflow.python.ops.numpy_ops import np_utils\n",
    "from tensorflow.python.keras.utils import np_utils"
   ]
  },
  {
   "cell_type": "code",
   "execution_count": 71,
   "metadata": {
    "execution": {
     "iopub.execute_input": "2021-10-09T10:51:32.419890Z",
     "iopub.status.busy": "2021-10-09T10:51:32.418946Z",
     "iopub.status.idle": "2021-10-09T10:51:33.095406Z",
     "shell.execute_reply": "2021-10-09T10:51:33.094348Z",
     "shell.execute_reply.started": "2021-10-09T10:51:32.419844Z"
    }
   },
   "outputs": [
    {
     "data": {
      "text/html": [
       "<div>\n",
       "<style scoped>\n",
       "    .dataframe tbody tr th:only-of-type {\n",
       "        vertical-align: middle;\n",
       "    }\n",
       "\n",
       "    .dataframe tbody tr th {\n",
       "        vertical-align: top;\n",
       "    }\n",
       "\n",
       "    .dataframe thead th {\n",
       "        text-align: right;\n",
       "    }\n",
       "</style>\n",
       "<table border=\"1\" class=\"dataframe\">\n",
       "  <thead>\n",
       "    <tr style=\"text-align: right;\">\n",
       "      <th></th>\n",
       "      <th>death_yn</th>\n",
       "      <th>age</th>\n",
       "      <th>current_status_Probable Case</th>\n",
       "      <th>sex_Male</th>\n",
       "      <th>sex_Other</th>\n",
       "      <th>sex_Unknown</th>\n",
       "      <th>symptomatic_yn_Yes</th>\n",
       "      <th>tested_yn_Yes</th>\n",
       "      <th>hosp_yn_Unknown</th>\n",
       "      <th>hosp_yn_Yes</th>\n",
       "      <th>...</th>\n",
       "      <th>medcond_yn_Unknown</th>\n",
       "      <th>medcond_yn_Yes</th>\n",
       "      <th>Race and ethnicity (combined)_Asian, Non-Hispanic</th>\n",
       "      <th>Race and ethnicity (combined)_Black, Non-Hispanic</th>\n",
       "      <th>Race and ethnicity (combined)_Hispanic/Latino</th>\n",
       "      <th>Race and ethnicity (combined)_Multiple/Other, Non-Hispanic</th>\n",
       "      <th>Race and ethnicity (combined)_Native Hawaiian/Other Pacific Islander, Non-Hispanic</th>\n",
       "      <th>Race and ethnicity (combined)_Unknown</th>\n",
       "      <th>Race and ethnicity (combined)_White, Non-Hispanic</th>\n",
       "      <th>death</th>\n",
       "    </tr>\n",
       "    <tr>\n",
       "      <th>cdc_report_dt</th>\n",
       "      <th></th>\n",
       "      <th></th>\n",
       "      <th></th>\n",
       "      <th></th>\n",
       "      <th></th>\n",
       "      <th></th>\n",
       "      <th></th>\n",
       "      <th></th>\n",
       "      <th></th>\n",
       "      <th></th>\n",
       "      <th></th>\n",
       "      <th></th>\n",
       "      <th></th>\n",
       "      <th></th>\n",
       "      <th></th>\n",
       "      <th></th>\n",
       "      <th></th>\n",
       "      <th></th>\n",
       "      <th></th>\n",
       "      <th></th>\n",
       "      <th></th>\n",
       "    </tr>\n",
       "  </thead>\n",
       "  <tbody>\n",
       "    <tr>\n",
       "      <th>2020-11-10</th>\n",
       "      <td>No</td>\n",
       "      <td>1</td>\n",
       "      <td>0</td>\n",
       "      <td>1</td>\n",
       "      <td>0</td>\n",
       "      <td>0</td>\n",
       "      <td>0</td>\n",
       "      <td>1</td>\n",
       "      <td>0</td>\n",
       "      <td>0</td>\n",
       "      <td>...</td>\n",
       "      <td>0</td>\n",
       "      <td>0</td>\n",
       "      <td>0</td>\n",
       "      <td>1</td>\n",
       "      <td>0</td>\n",
       "      <td>0</td>\n",
       "      <td>0</td>\n",
       "      <td>0</td>\n",
       "      <td>0</td>\n",
       "      <td>0</td>\n",
       "    </tr>\n",
       "    <tr>\n",
       "      <th>2020-11-14</th>\n",
       "      <td>No</td>\n",
       "      <td>1</td>\n",
       "      <td>0</td>\n",
       "      <td>1</td>\n",
       "      <td>0</td>\n",
       "      <td>0</td>\n",
       "      <td>1</td>\n",
       "      <td>1</td>\n",
       "      <td>0</td>\n",
       "      <td>0</td>\n",
       "      <td>...</td>\n",
       "      <td>0</td>\n",
       "      <td>0</td>\n",
       "      <td>0</td>\n",
       "      <td>1</td>\n",
       "      <td>0</td>\n",
       "      <td>0</td>\n",
       "      <td>0</td>\n",
       "      <td>0</td>\n",
       "      <td>0</td>\n",
       "      <td>0</td>\n",
       "    </tr>\n",
       "    <tr>\n",
       "      <th>2020-11-19</th>\n",
       "      <td>No</td>\n",
       "      <td>1</td>\n",
       "      <td>0</td>\n",
       "      <td>1</td>\n",
       "      <td>0</td>\n",
       "      <td>0</td>\n",
       "      <td>1</td>\n",
       "      <td>1</td>\n",
       "      <td>0</td>\n",
       "      <td>0</td>\n",
       "      <td>...</td>\n",
       "      <td>0</td>\n",
       "      <td>0</td>\n",
       "      <td>0</td>\n",
       "      <td>1</td>\n",
       "      <td>0</td>\n",
       "      <td>0</td>\n",
       "      <td>0</td>\n",
       "      <td>0</td>\n",
       "      <td>0</td>\n",
       "      <td>0</td>\n",
       "    </tr>\n",
       "    <tr>\n",
       "      <th>2020-11-14</th>\n",
       "      <td>No</td>\n",
       "      <td>1</td>\n",
       "      <td>0</td>\n",
       "      <td>1</td>\n",
       "      <td>0</td>\n",
       "      <td>0</td>\n",
       "      <td>0</td>\n",
       "      <td>1</td>\n",
       "      <td>0</td>\n",
       "      <td>0</td>\n",
       "      <td>...</td>\n",
       "      <td>0</td>\n",
       "      <td>0</td>\n",
       "      <td>0</td>\n",
       "      <td>1</td>\n",
       "      <td>0</td>\n",
       "      <td>0</td>\n",
       "      <td>0</td>\n",
       "      <td>0</td>\n",
       "      <td>0</td>\n",
       "      <td>0</td>\n",
       "    </tr>\n",
       "    <tr>\n",
       "      <th>2020-11-13</th>\n",
       "      <td>No</td>\n",
       "      <td>1</td>\n",
       "      <td>0</td>\n",
       "      <td>1</td>\n",
       "      <td>0</td>\n",
       "      <td>0</td>\n",
       "      <td>1</td>\n",
       "      <td>1</td>\n",
       "      <td>0</td>\n",
       "      <td>0</td>\n",
       "      <td>...</td>\n",
       "      <td>0</td>\n",
       "      <td>1</td>\n",
       "      <td>0</td>\n",
       "      <td>1</td>\n",
       "      <td>0</td>\n",
       "      <td>0</td>\n",
       "      <td>0</td>\n",
       "      <td>0</td>\n",
       "      <td>0</td>\n",
       "      <td>0</td>\n",
       "    </tr>\n",
       "  </tbody>\n",
       "</table>\n",
       "<p>5 rows × 22 columns</p>\n",
       "</div>"
      ],
      "text/plain": [
       "              death_yn  age  current_status_Probable Case  sex_Male  \\\n",
       "cdc_report_dt                                                         \n",
       "2020-11-10          No    1                             0         1   \n",
       "2020-11-14          No    1                             0         1   \n",
       "2020-11-19          No    1                             0         1   \n",
       "2020-11-14          No    1                             0         1   \n",
       "2020-11-13          No    1                             0         1   \n",
       "\n",
       "               sex_Other  sex_Unknown  symptomatic_yn_Yes  tested_yn_Yes  \\\n",
       "cdc_report_dt                                                              \n",
       "2020-11-10             0            0                   0              1   \n",
       "2020-11-14             0            0                   1              1   \n",
       "2020-11-19             0            0                   1              1   \n",
       "2020-11-14             0            0                   0              1   \n",
       "2020-11-13             0            0                   1              1   \n",
       "\n",
       "               hosp_yn_Unknown  hosp_yn_Yes  ...  medcond_yn_Unknown  \\\n",
       "cdc_report_dt                                ...                       \n",
       "2020-11-10                   0            0  ...                   0   \n",
       "2020-11-14                   0            0  ...                   0   \n",
       "2020-11-19                   0            0  ...                   0   \n",
       "2020-11-14                   0            0  ...                   0   \n",
       "2020-11-13                   0            0  ...                   0   \n",
       "\n",
       "               medcond_yn_Yes  \\\n",
       "cdc_report_dt                   \n",
       "2020-11-10                  0   \n",
       "2020-11-14                  0   \n",
       "2020-11-19                  0   \n",
       "2020-11-14                  0   \n",
       "2020-11-13                  1   \n",
       "\n",
       "               Race and ethnicity (combined)_Asian, Non-Hispanic  \\\n",
       "cdc_report_dt                                                      \n",
       "2020-11-10                                                     0   \n",
       "2020-11-14                                                     0   \n",
       "2020-11-19                                                     0   \n",
       "2020-11-14                                                     0   \n",
       "2020-11-13                                                     0   \n",
       "\n",
       "               Race and ethnicity (combined)_Black, Non-Hispanic  \\\n",
       "cdc_report_dt                                                      \n",
       "2020-11-10                                                     1   \n",
       "2020-11-14                                                     1   \n",
       "2020-11-19                                                     1   \n",
       "2020-11-14                                                     1   \n",
       "2020-11-13                                                     1   \n",
       "\n",
       "               Race and ethnicity (combined)_Hispanic/Latino  \\\n",
       "cdc_report_dt                                                  \n",
       "2020-11-10                                                 0   \n",
       "2020-11-14                                                 0   \n",
       "2020-11-19                                                 0   \n",
       "2020-11-14                                                 0   \n",
       "2020-11-13                                                 0   \n",
       "\n",
       "               Race and ethnicity (combined)_Multiple/Other, Non-Hispanic  \\\n",
       "cdc_report_dt                                                               \n",
       "2020-11-10                                                     0            \n",
       "2020-11-14                                                     0            \n",
       "2020-11-19                                                     0            \n",
       "2020-11-14                                                     0            \n",
       "2020-11-13                                                     0            \n",
       "\n",
       "               Race and ethnicity (combined)_Native Hawaiian/Other Pacific Islander, Non-Hispanic  \\\n",
       "cdc_report_dt                                                                                       \n",
       "2020-11-10                                                     0                                    \n",
       "2020-11-14                                                     0                                    \n",
       "2020-11-19                                                     0                                    \n",
       "2020-11-14                                                     0                                    \n",
       "2020-11-13                                                     0                                    \n",
       "\n",
       "               Race and ethnicity (combined)_Unknown  \\\n",
       "cdc_report_dt                                          \n",
       "2020-11-10                                         0   \n",
       "2020-11-14                                         0   \n",
       "2020-11-19                                         0   \n",
       "2020-11-14                                         0   \n",
       "2020-11-13                                         0   \n",
       "\n",
       "               Race and ethnicity (combined)_White, Non-Hispanic  death  \n",
       "cdc_report_dt                                                            \n",
       "2020-11-10                                                     0      0  \n",
       "2020-11-14                                                     0      0  \n",
       "2020-11-19                                                     0      0  \n",
       "2020-11-14                                                     0      0  \n",
       "2020-11-13                                                     0      0  \n",
       "\n",
       "[5 rows x 22 columns]"
      ]
     },
     "execution_count": 71,
     "metadata": {},
     "output_type": "execute_result"
    }
   ],
   "source": [
    "pmap = {'No':0,'Unknown':1,'Yes':2}\n",
    "df_final['death'] = df_final['death_yn'].map(pmap)\n",
    "df_final.head()"
   ]
  },
  {
   "cell_type": "code",
   "execution_count": 75,
   "metadata": {
    "execution": {
     "iopub.execute_input": "2021-10-09T10:56:10.298011Z",
     "iopub.status.busy": "2021-10-09T10:56:10.297486Z",
     "iopub.status.idle": "2021-10-09T10:56:12.972166Z",
     "shell.execute_reply": "2021-10-09T10:56:12.971067Z",
     "shell.execute_reply.started": "2021-10-09T10:56:10.297961Z"
    }
   },
   "outputs": [],
   "source": [
    "features_nn = df_final.drop(['death_yn', 'death'], axis=1)\n",
    "label_nn = df_final['death']\n",
    "y = np_utils.to_categorical(label_nn)\n",
    "X_train_nn, X_test_nn, y_train_nn, y_test_nn = train_test_split(features_nn, y, test_size=0.2, random_state=42)"
   ]
  },
  {
   "cell_type": "code",
   "execution_count": 79,
   "metadata": {
    "execution": {
     "iopub.execute_input": "2021-10-09T10:56:38.503103Z",
     "iopub.status.busy": "2021-10-09T10:56:38.502226Z",
     "iopub.status.idle": "2021-10-09T10:56:38.510343Z",
     "shell.execute_reply": "2021-10-09T10:56:38.509447Z",
     "shell.execute_reply.started": "2021-10-09T10:56:38.503047Z"
    }
   },
   "outputs": [
    {
     "data": {
      "text/plain": [
       "(4553958, 3)"
      ]
     },
     "execution_count": 79,
     "metadata": {},
     "output_type": "execute_result"
    }
   ],
   "source": [
    "y_train_nn.shape"
   ]
  },
  {
   "cell_type": "code",
   "execution_count": 80,
   "metadata": {
    "execution": {
     "iopub.execute_input": "2021-10-09T10:57:20.789482Z",
     "iopub.status.busy": "2021-10-09T10:57:20.788451Z",
     "iopub.status.idle": "2021-10-09T11:20:29.649068Z",
     "shell.execute_reply": "2021-10-09T11:20:29.647840Z",
     "shell.execute_reply.started": "2021-10-09T10:57:20.789420Z"
    }
   },
   "outputs": [
    {
     "name": "stderr",
     "output_type": "stream",
     "text": [
      "2021-10-09 10:57:20.810795: I tensorflow/compiler/jit/xla_cpu_device.cc:41] Not creating XLA devices, tf_xla_enable_xla_devices not set\n",
      "2021-10-09 10:57:20.813826: W tensorflow/stream_executor/platform/default/dso_loader.cc:60] Could not load dynamic library 'libcuda.so.1'; dlerror: libcuda.so.1: cannot open shared object file: No such file or directory; LD_LIBRARY_PATH: /opt/conda/lib\n",
      "2021-10-09 10:57:20.813862: W tensorflow/stream_executor/cuda/cuda_driver.cc:326] failed call to cuInit: UNKNOWN ERROR (303)\n",
      "2021-10-09 10:57:20.813905: I tensorflow/stream_executor/cuda/cuda_diagnostics.cc:156] kernel driver does not appear to be running on this host (f0ba4bbfcc7b): /proc/driver/nvidia/version does not exist\n",
      "2021-10-09 10:57:20.816089: I tensorflow/core/platform/cpu_feature_guard.cc:142] This TensorFlow binary is optimized with oneAPI Deep Neural Network Library (oneDNN) to use the following CPU instructions in performance-critical operations:  AVX2 FMA\n",
      "To enable them in other operations, rebuild TensorFlow with the appropriate compiler flags.\n",
      "2021-10-09 10:57:20.816578: I tensorflow/compiler/jit/xla_gpu_device.cc:99] Not creating XLA devices, tf_xla_enable_xla_devices not set\n",
      "2021-10-09 10:57:25.499147: I tensorflow/compiler/mlir/mlir_graph_optimization_pass.cc:116] None of the MLIR optimization passes are enabled (registered 2)\n",
      "2021-10-09 10:57:25.512812: I tensorflow/core/platform/profile_utils/cpu_utils.cc:112] CPU Frequency: 2199995000 Hz\n"
     ]
    },
    {
     "name": "stdout",
     "output_type": "stream",
     "text": [
      "Epoch 1/10\n",
      "71156/71156 [==============================] - 123s 2ms/step - loss: 0.3232 - accuracy: 0.8755\n",
      "Epoch 2/10\n",
      "71156/71156 [==============================] - 123s 2ms/step - loss: 0.2960 - accuracy: 0.8863\n",
      "Epoch 3/10\n",
      "71156/71156 [==============================] - 124s 2ms/step - loss: 0.2928 - accuracy: 0.8876\n",
      "Epoch 4/10\n",
      "71156/71156 [==============================] - 122s 2ms/step - loss: 0.2917 - accuracy: 0.8882\n",
      "Epoch 5/10\n",
      "71156/71156 [==============================] - 125s 2ms/step - loss: 0.2911 - accuracy: 0.8883\n",
      "Epoch 6/10\n",
      "71156/71156 [==============================] - 122s 2ms/step - loss: 0.2909 - accuracy: 0.8883\n",
      "Epoch 7/10\n",
      "71156/71156 [==============================] - 122s 2ms/step - loss: 0.2900 - accuracy: 0.8887\n",
      "Epoch 8/10\n",
      "71156/71156 [==============================] - 123s 2ms/step - loss: 0.2899 - accuracy: 0.8886\n",
      "Epoch 9/10\n",
      "71156/71156 [==============================] - 124s 2ms/step - loss: 0.2891 - accuracy: 0.8888\n",
      "Epoch 10/10\n",
      "71156/71156 [==============================] - 123s 2ms/step - loss: 0.2892 - accuracy: 0.8889\n",
      "142312/142312 [==============================] - 150s 1ms/step - loss: 0.2888 - accuracy: 0.8893\n"
     ]
    },
    {
     "data": {
      "text/plain": [
       "[0.28881776332855225, 0.8892631530761719]"
      ]
     },
     "execution_count": 80,
     "metadata": {},
     "output_type": "execute_result"
    }
   ],
   "source": [
    "model = Sequential()\n",
    "model.add(Dense(128, input_dim=X_train_nn.shape[1], activation='relu'))\n",
    "model.add(Dense(64, activation='relu'))\n",
    "model.add(Dense(32, activation='relu'))\n",
    "model.add(Dense(16, activation='relu'))\n",
    "model.add(Dense(8, activation='relu'))\n",
    "model.add(Dense(y_train_nn.shape[1], activation='softmax'))\n",
    "model.compile(loss='categorical_crossentropy', optimizer='adam', metrics=['accuracy'])\n",
    "model.fit(X_train_nn, y_train_nn, epochs=10, batch_size=64)\n",
    "eva_train = model.evaluate(X_train_nn, y_train_nn)\n",
    "eva_train"
   ]
  },
  {
   "cell_type": "code",
   "execution_count": 82,
   "metadata": {
    "execution": {
     "iopub.execute_input": "2021-10-09T11:20:48.582859Z",
     "iopub.status.busy": "2021-10-09T11:20:48.582579Z",
     "iopub.status.idle": "2021-10-09T11:21:14.757847Z",
     "shell.execute_reply": "2021-10-09T11:21:14.756670Z",
     "shell.execute_reply.started": "2021-10-09T11:20:48.582827Z"
    }
   },
   "outputs": [],
   "source": [
    "y_pred_nn = model.predict(X_test_nn)\n",
    "y_test_nn = y_test_nn.argmax(1)\n",
    "y_pred_nn = np.argmax(y_pred_nn, axis=1)"
   ]
  },
  {
   "cell_type": "code",
   "execution_count": 83,
   "metadata": {
    "execution": {
     "iopub.execute_input": "2021-10-09T11:21:30.003540Z",
     "iopub.status.busy": "2021-10-09T11:21:30.003202Z",
     "iopub.status.idle": "2021-10-09T11:21:33.552661Z",
     "shell.execute_reply": "2021-10-09T11:21:33.551771Z",
     "shell.execute_reply.started": "2021-10-09T11:21:30.003505Z"
    }
   },
   "outputs": [
    {
     "name": "stdout",
     "output_type": "stream",
     "text": [
      "              precision    recall  f1-score   support\n",
      "\n",
      "           0       0.93      0.94      0.93    867870\n",
      "           1       0.76      0.75      0.76    229510\n",
      "           2       0.74      0.59      0.66     41110\n",
      "\n",
      "    accuracy                           0.89   1138490\n",
      "   macro avg       0.81      0.76      0.78   1138490\n",
      "weighted avg       0.89      0.89      0.89   1138490\n",
      "\n"
     ]
    },
    {
     "data": {
      "image/png": "[encoded data removed]",
      "text/plain": [
       "<Figure size 432x288 with 2 Axes>"
      ]
     },
     "metadata": {
      "needs_background": "light"
     },
     "output_type": "display_data"
    }
   ],
   "source": [
    "cm_nn, acc_nn = evaluate_models(y_test_nn, y_pred_nn)\n",
    "plot_cm(cm_nn, 'Neural Network Confusion Matrix')\n",
    "models.append(['Neural Network', acc_nn])"
   ]
  },
  {
   "cell_type": "code",
   "execution_count": 84,
   "metadata": {
    "execution": {
     "iopub.execute_input": "2021-10-09T11:21:45.049011Z",
     "iopub.status.busy": "2021-10-09T11:21:45.048675Z",
     "iopub.status.idle": "2021-10-09T11:21:45.242745Z",
     "shell.execute_reply": "2021-10-09T11:21:45.241682Z",
     "shell.execute_reply.started": "2021-10-09T11:21:45.048976Z"
    }
   },
   "outputs": [
    {
     "data": {
      "image/png": "[encoded data removed]",
      "text/plain": [
       "<Figure size 432x288 with 1 Axes>"
      ]
     },
     "metadata": {
      "needs_background": "light"
     },
     "output_type": "display_data"
    }
   ],
   "source": [
    "# plt.figure(figsize=(7, 5))\n",
    "for model in models:\n",
    "    plt.bar(model[0], model[1])\n",
    "\n",
    "plt.xlabel('Models')\n",
    "plt.ylabel(\"Accuracy\")\n",
    "plt.title('Compare Models')\n",
    "plt.show()"
   ]
  },
  {
   "cell_type": "code",
   "execution_count": null,
   "metadata": {},
   "outputs": [],
   "source": []
  }
 ],
 "metadata": {
  "kernelspec": {
   "display_name": "Python 3",
   "language": "python",
   "name": "python3"
  },
  "language_info": {
   "codemirror_mode": {
    "name": "ipython",
    "version": 3
   },
   "file_extension": ".py",
   "mimetype": "text/x-python",
   "name": "python",
   "nbconvert_exporter": "python",
   "pygments_lexer": "ipython3",
   "version": "3.7.3"
  }
 },
 "nbformat": 4,
 "nbformat_minor": 4
}
